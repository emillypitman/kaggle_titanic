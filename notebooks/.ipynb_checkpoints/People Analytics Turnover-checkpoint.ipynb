{
 "cells": [
  {
   "cell_type": "markdown",
   "metadata": {},
   "source": [
    "# Importing Libs"
   ]
  },
  {
   "cell_type": "code",
   "execution_count": 233,
   "metadata": {},
   "outputs": [],
   "source": [
    "import pandas as pd\n",
    "import os\n",
    "import matplotlib.pyplot as plt\n",
    "import seaborn as sns\n",
    "import numpy as np\n",
    "import matplotlib as mpl\n",
    "import statsmodels.api as sm\n",
    "\n",
    "mpl.style.use('fivethirtyeight')\n",
    "\n",
    "%matplotlib inline"
   ]
  },
  {
   "cell_type": "code",
   "execution_count": 78,
   "metadata": {},
   "outputs": [],
   "source": [
    "import warnings\n",
    "warnings.filterwarnings('ignore')"
   ]
  },
  {
   "cell_type": "markdown",
   "metadata": {},
   "source": [
    "# Reading Data"
   ]
  },
  {
   "cell_type": "code",
   "execution_count": 2,
   "metadata": {},
   "outputs": [
    {
     "name": "stdout",
     "output_type": "stream",
     "text": [
      "/Users/emillypitman/Documents/kaggle_titanic/notebooks\n"
     ]
    }
   ],
   "source": [
    "path = os.getcwd() #current directory\n",
    "print(path)"
   ]
  },
  {
   "cell_type": "code",
   "execution_count": 3,
   "metadata": {},
   "outputs": [],
   "source": [
    "os.chdir(\"/users/emillypitman/Documents/GitHub/Case Turnover PA\") #change directory"
   ]
  },
  {
   "cell_type": "code",
   "execution_count": 8,
   "metadata": {},
   "outputs": [
    {
     "data": {
      "text/html": [
       "<div>\n",
       "<style scoped>\n",
       "    .dataframe tbody tr th:only-of-type {\n",
       "        vertical-align: middle;\n",
       "    }\n",
       "\n",
       "    .dataframe tbody tr th {\n",
       "        vertical-align: top;\n",
       "    }\n",
       "\n",
       "    .dataframe thead th {\n",
       "        text-align: right;\n",
       "    }\n",
       "</style>\n",
       "<table border=\"1\" class=\"dataframe\">\n",
       "  <thead>\n",
       "    <tr style=\"text-align: right;\">\n",
       "      <th></th>\n",
       "      <th>Attrition</th>\n",
       "      <th>Age</th>\n",
       "      <th>TotalWorkingYears</th>\n",
       "      <th>YearsInCurrentRole</th>\n",
       "      <th>YearsAtCompany</th>\n",
       "      <th>StockOptionLevel</th>\n",
       "      <th>Department</th>\n",
       "      <th>DistanceFromHome</th>\n",
       "      <th>YearsSinceLastPromotion</th>\n",
       "      <th>BusinessTravel</th>\n",
       "      <th>Gender</th>\n",
       "      <th>OverTime</th>\n",
       "      <th>MonthlyIncome</th>\n",
       "    </tr>\n",
       "  </thead>\n",
       "  <tbody>\n",
       "    <tr>\n",
       "      <th>0</th>\n",
       "      <td>Yes</td>\n",
       "      <td>41</td>\n",
       "      <td>8</td>\n",
       "      <td>4</td>\n",
       "      <td>6</td>\n",
       "      <td>0</td>\n",
       "      <td>Sales</td>\n",
       "      <td>1</td>\n",
       "      <td>0</td>\n",
       "      <td>Travel_Rarely</td>\n",
       "      <td>Female</td>\n",
       "      <td>Yes</td>\n",
       "      <td>5993</td>\n",
       "    </tr>\n",
       "    <tr>\n",
       "      <th>1</th>\n",
       "      <td>No</td>\n",
       "      <td>49</td>\n",
       "      <td>10</td>\n",
       "      <td>7</td>\n",
       "      <td>10</td>\n",
       "      <td>1</td>\n",
       "      <td>Research &amp; Development</td>\n",
       "      <td>8</td>\n",
       "      <td>1</td>\n",
       "      <td>Travel_Frequently</td>\n",
       "      <td>Male</td>\n",
       "      <td>No</td>\n",
       "      <td>5130</td>\n",
       "    </tr>\n",
       "    <tr>\n",
       "      <th>2</th>\n",
       "      <td>Yes</td>\n",
       "      <td>37</td>\n",
       "      <td>7</td>\n",
       "      <td>0</td>\n",
       "      <td>0</td>\n",
       "      <td>0</td>\n",
       "      <td>Research &amp; Development</td>\n",
       "      <td>2</td>\n",
       "      <td>0</td>\n",
       "      <td>Travel_Rarely</td>\n",
       "      <td>Male</td>\n",
       "      <td>Yes</td>\n",
       "      <td>2090</td>\n",
       "    </tr>\n",
       "    <tr>\n",
       "      <th>3</th>\n",
       "      <td>No</td>\n",
       "      <td>33</td>\n",
       "      <td>8</td>\n",
       "      <td>7</td>\n",
       "      <td>8</td>\n",
       "      <td>0</td>\n",
       "      <td>Research &amp; Development</td>\n",
       "      <td>3</td>\n",
       "      <td>3</td>\n",
       "      <td>Travel_Frequently</td>\n",
       "      <td>Female</td>\n",
       "      <td>Yes</td>\n",
       "      <td>2909</td>\n",
       "    </tr>\n",
       "    <tr>\n",
       "      <th>4</th>\n",
       "      <td>No</td>\n",
       "      <td>27</td>\n",
       "      <td>6</td>\n",
       "      <td>2</td>\n",
       "      <td>2</td>\n",
       "      <td>1</td>\n",
       "      <td>Research &amp; Development</td>\n",
       "      <td>2</td>\n",
       "      <td>2</td>\n",
       "      <td>Travel_Rarely</td>\n",
       "      <td>Male</td>\n",
       "      <td>No</td>\n",
       "      <td>3468</td>\n",
       "    </tr>\n",
       "  </tbody>\n",
       "</table>\n",
       "</div>"
      ],
      "text/plain": [
       "  Attrition  Age  TotalWorkingYears  YearsInCurrentRole  YearsAtCompany  \\\n",
       "0       Yes   41                  8                   4               6   \n",
       "1        No   49                 10                   7              10   \n",
       "2       Yes   37                  7                   0               0   \n",
       "3        No   33                  8                   7               8   \n",
       "4        No   27                  6                   2               2   \n",
       "\n",
       "   StockOptionLevel              Department  DistanceFromHome  \\\n",
       "0                 0                   Sales                 1   \n",
       "1                 1  Research & Development                 8   \n",
       "2                 0  Research & Development                 2   \n",
       "3                 0  Research & Development                 3   \n",
       "4                 1  Research & Development                 2   \n",
       "\n",
       "   YearsSinceLastPromotion     BusinessTravel  Gender OverTime  MonthlyIncome  \n",
       "0                        0      Travel_Rarely  Female      Yes           5993  \n",
       "1                        1  Travel_Frequently    Male       No           5130  \n",
       "2                        0      Travel_Rarely    Male      Yes           2090  \n",
       "3                        3  Travel_Frequently  Female      Yes           2909  \n",
       "4                        2      Travel_Rarely    Male       No           3468  "
      ]
     },
     "execution_count": 8,
     "metadata": {},
     "output_type": "execute_result"
    }
   ],
   "source": [
    "pa = pd.read_excel(\"CASEFINAL_PEOPLE_ANAYTICS.xlsx\", sheet_name=\"BASE_DADOS\", engine=\"openpyxl\")\n",
    "pa.head()"
   ]
  },
  {
   "cell_type": "markdown",
   "metadata": {},
   "source": [
    "# EDA"
   ]
  },
  {
   "cell_type": "code",
   "execution_count": 11,
   "metadata": {},
   "outputs": [
    {
     "data": {
      "text/plain": [
       "(1470, 13)"
      ]
     },
     "execution_count": 11,
     "metadata": {},
     "output_type": "execute_result"
    }
   ],
   "source": [
    "pa.shape"
   ]
  },
  {
   "cell_type": "code",
   "execution_count": 12,
   "metadata": {},
   "outputs": [
    {
     "name": "stdout",
     "output_type": "stream",
     "text": [
      "<class 'pandas.core.frame.DataFrame'>\n",
      "RangeIndex: 1470 entries, 0 to 1469\n",
      "Data columns (total 13 columns):\n",
      " #   Column                   Non-Null Count  Dtype \n",
      "---  ------                   --------------  ----- \n",
      " 0   Attrition                1470 non-null   object\n",
      " 1   Age                      1470 non-null   int64 \n",
      " 2   TotalWorkingYears        1470 non-null   int64 \n",
      " 3   YearsInCurrentRole       1470 non-null   int64 \n",
      " 4   YearsAtCompany           1470 non-null   int64 \n",
      " 5   StockOptionLevel         1470 non-null   int64 \n",
      " 6   Department               1470 non-null   object\n",
      " 7   DistanceFromHome         1470 non-null   int64 \n",
      " 8   YearsSinceLastPromotion  1470 non-null   int64 \n",
      " 9   BusinessTravel           1470 non-null   object\n",
      " 10  Gender                   1470 non-null   object\n",
      " 11  OverTime                 1470 non-null   object\n",
      " 12  MonthlyIncome            1470 non-null   int64 \n",
      "dtypes: int64(8), object(5)\n",
      "memory usage: 149.4+ KB\n"
     ]
    }
   ],
   "source": [
    "pa.info()"
   ]
  },
  {
   "cell_type": "code",
   "execution_count": 13,
   "metadata": {},
   "outputs": [
    {
     "data": {
      "text/html": [
       "<div>\n",
       "<style scoped>\n",
       "    .dataframe tbody tr th:only-of-type {\n",
       "        vertical-align: middle;\n",
       "    }\n",
       "\n",
       "    .dataframe tbody tr th {\n",
       "        vertical-align: top;\n",
       "    }\n",
       "\n",
       "    .dataframe thead th {\n",
       "        text-align: right;\n",
       "    }\n",
       "</style>\n",
       "<table border=\"1\" class=\"dataframe\">\n",
       "  <thead>\n",
       "    <tr style=\"text-align: right;\">\n",
       "      <th></th>\n",
       "      <th>Age</th>\n",
       "      <th>TotalWorkingYears</th>\n",
       "      <th>YearsInCurrentRole</th>\n",
       "      <th>YearsAtCompany</th>\n",
       "      <th>StockOptionLevel</th>\n",
       "      <th>DistanceFromHome</th>\n",
       "      <th>YearsSinceLastPromotion</th>\n",
       "      <th>MonthlyIncome</th>\n",
       "    </tr>\n",
       "  </thead>\n",
       "  <tbody>\n",
       "    <tr>\n",
       "      <th>count</th>\n",
       "      <td>1470.000000</td>\n",
       "      <td>1470.000000</td>\n",
       "      <td>1470.000000</td>\n",
       "      <td>1470.000000</td>\n",
       "      <td>1470.000000</td>\n",
       "      <td>1470.000000</td>\n",
       "      <td>1470.000000</td>\n",
       "      <td>1470.000000</td>\n",
       "    </tr>\n",
       "    <tr>\n",
       "      <th>mean</th>\n",
       "      <td>36.923810</td>\n",
       "      <td>11.279592</td>\n",
       "      <td>4.229252</td>\n",
       "      <td>7.008163</td>\n",
       "      <td>0.570748</td>\n",
       "      <td>9.192517</td>\n",
       "      <td>2.187755</td>\n",
       "      <td>6502.931293</td>\n",
       "    </tr>\n",
       "    <tr>\n",
       "      <th>std</th>\n",
       "      <td>9.135373</td>\n",
       "      <td>7.780782</td>\n",
       "      <td>3.623137</td>\n",
       "      <td>6.126525</td>\n",
       "      <td>0.495138</td>\n",
       "      <td>8.106864</td>\n",
       "      <td>3.222430</td>\n",
       "      <td>4707.956783</td>\n",
       "    </tr>\n",
       "    <tr>\n",
       "      <th>min</th>\n",
       "      <td>18.000000</td>\n",
       "      <td>0.000000</td>\n",
       "      <td>0.000000</td>\n",
       "      <td>0.000000</td>\n",
       "      <td>0.000000</td>\n",
       "      <td>1.000000</td>\n",
       "      <td>0.000000</td>\n",
       "      <td>1009.000000</td>\n",
       "    </tr>\n",
       "    <tr>\n",
       "      <th>25%</th>\n",
       "      <td>30.000000</td>\n",
       "      <td>6.000000</td>\n",
       "      <td>2.000000</td>\n",
       "      <td>3.000000</td>\n",
       "      <td>0.000000</td>\n",
       "      <td>2.000000</td>\n",
       "      <td>0.000000</td>\n",
       "      <td>2911.000000</td>\n",
       "    </tr>\n",
       "    <tr>\n",
       "      <th>50%</th>\n",
       "      <td>36.000000</td>\n",
       "      <td>10.000000</td>\n",
       "      <td>3.000000</td>\n",
       "      <td>5.000000</td>\n",
       "      <td>1.000000</td>\n",
       "      <td>7.000000</td>\n",
       "      <td>1.000000</td>\n",
       "      <td>4919.000000</td>\n",
       "    </tr>\n",
       "    <tr>\n",
       "      <th>75%</th>\n",
       "      <td>43.000000</td>\n",
       "      <td>15.000000</td>\n",
       "      <td>7.000000</td>\n",
       "      <td>9.000000</td>\n",
       "      <td>1.000000</td>\n",
       "      <td>14.000000</td>\n",
       "      <td>3.000000</td>\n",
       "      <td>8379.000000</td>\n",
       "    </tr>\n",
       "    <tr>\n",
       "      <th>max</th>\n",
       "      <td>60.000000</td>\n",
       "      <td>40.000000</td>\n",
       "      <td>18.000000</td>\n",
       "      <td>40.000000</td>\n",
       "      <td>1.000000</td>\n",
       "      <td>29.000000</td>\n",
       "      <td>15.000000</td>\n",
       "      <td>19999.000000</td>\n",
       "    </tr>\n",
       "  </tbody>\n",
       "</table>\n",
       "</div>"
      ],
      "text/plain": [
       "               Age  TotalWorkingYears  YearsInCurrentRole  YearsAtCompany  \\\n",
       "count  1470.000000        1470.000000         1470.000000     1470.000000   \n",
       "mean     36.923810          11.279592            4.229252        7.008163   \n",
       "std       9.135373           7.780782            3.623137        6.126525   \n",
       "min      18.000000           0.000000            0.000000        0.000000   \n",
       "25%      30.000000           6.000000            2.000000        3.000000   \n",
       "50%      36.000000          10.000000            3.000000        5.000000   \n",
       "75%      43.000000          15.000000            7.000000        9.000000   \n",
       "max      60.000000          40.000000           18.000000       40.000000   \n",
       "\n",
       "       StockOptionLevel  DistanceFromHome  YearsSinceLastPromotion  \\\n",
       "count       1470.000000       1470.000000              1470.000000   \n",
       "mean           0.570748          9.192517                 2.187755   \n",
       "std            0.495138          8.106864                 3.222430   \n",
       "min            0.000000          1.000000                 0.000000   \n",
       "25%            0.000000          2.000000                 0.000000   \n",
       "50%            1.000000          7.000000                 1.000000   \n",
       "75%            1.000000         14.000000                 3.000000   \n",
       "max            1.000000         29.000000                15.000000   \n",
       "\n",
       "       MonthlyIncome  \n",
       "count    1470.000000  \n",
       "mean     6502.931293  \n",
       "std      4707.956783  \n",
       "min      1009.000000  \n",
       "25%      2911.000000  \n",
       "50%      4919.000000  \n",
       "75%      8379.000000  \n",
       "max     19999.000000  "
      ]
     },
     "execution_count": 13,
     "metadata": {},
     "output_type": "execute_result"
    }
   ],
   "source": [
    "pa.describe()"
   ]
  },
  {
   "cell_type": "markdown",
   "metadata": {},
   "source": [
    "# Univariate Analysis"
   ]
  },
  {
   "cell_type": "code",
   "execution_count": 14,
   "metadata": {},
   "outputs": [
    {
     "data": {
      "text/html": [
       "<div>\n",
       "<style scoped>\n",
       "    .dataframe tbody tr th:only-of-type {\n",
       "        vertical-align: middle;\n",
       "    }\n",
       "\n",
       "    .dataframe tbody tr th {\n",
       "        vertical-align: top;\n",
       "    }\n",
       "\n",
       "    .dataframe thead th {\n",
       "        text-align: right;\n",
       "    }\n",
       "</style>\n",
       "<table border=\"1\" class=\"dataframe\">\n",
       "  <thead>\n",
       "    <tr style=\"text-align: right;\">\n",
       "      <th></th>\n",
       "      <th>Attrition</th>\n",
       "      <th>Age</th>\n",
       "      <th>TotalWorkingYears</th>\n",
       "      <th>YearsInCurrentRole</th>\n",
       "      <th>YearsAtCompany</th>\n",
       "      <th>StockOptionLevel</th>\n",
       "      <th>Department</th>\n",
       "      <th>DistanceFromHome</th>\n",
       "      <th>YearsSinceLastPromotion</th>\n",
       "      <th>BusinessTravel</th>\n",
       "      <th>Gender</th>\n",
       "      <th>OverTime</th>\n",
       "      <th>MonthlyIncome</th>\n",
       "    </tr>\n",
       "  </thead>\n",
       "  <tbody>\n",
       "    <tr>\n",
       "      <th>0</th>\n",
       "      <td>Yes</td>\n",
       "      <td>41</td>\n",
       "      <td>8</td>\n",
       "      <td>4</td>\n",
       "      <td>6</td>\n",
       "      <td>0</td>\n",
       "      <td>Sales</td>\n",
       "      <td>1</td>\n",
       "      <td>0</td>\n",
       "      <td>Travel_Rarely</td>\n",
       "      <td>Female</td>\n",
       "      <td>Yes</td>\n",
       "      <td>5993</td>\n",
       "    </tr>\n",
       "    <tr>\n",
       "      <th>1</th>\n",
       "      <td>No</td>\n",
       "      <td>49</td>\n",
       "      <td>10</td>\n",
       "      <td>7</td>\n",
       "      <td>10</td>\n",
       "      <td>1</td>\n",
       "      <td>Research &amp; Development</td>\n",
       "      <td>8</td>\n",
       "      <td>1</td>\n",
       "      <td>Travel_Frequently</td>\n",
       "      <td>Male</td>\n",
       "      <td>No</td>\n",
       "      <td>5130</td>\n",
       "    </tr>\n",
       "    <tr>\n",
       "      <th>2</th>\n",
       "      <td>Yes</td>\n",
       "      <td>37</td>\n",
       "      <td>7</td>\n",
       "      <td>0</td>\n",
       "      <td>0</td>\n",
       "      <td>0</td>\n",
       "      <td>Research &amp; Development</td>\n",
       "      <td>2</td>\n",
       "      <td>0</td>\n",
       "      <td>Travel_Rarely</td>\n",
       "      <td>Male</td>\n",
       "      <td>Yes</td>\n",
       "      <td>2090</td>\n",
       "    </tr>\n",
       "    <tr>\n",
       "      <th>3</th>\n",
       "      <td>No</td>\n",
       "      <td>33</td>\n",
       "      <td>8</td>\n",
       "      <td>7</td>\n",
       "      <td>8</td>\n",
       "      <td>0</td>\n",
       "      <td>Research &amp; Development</td>\n",
       "      <td>3</td>\n",
       "      <td>3</td>\n",
       "      <td>Travel_Frequently</td>\n",
       "      <td>Female</td>\n",
       "      <td>Yes</td>\n",
       "      <td>2909</td>\n",
       "    </tr>\n",
       "    <tr>\n",
       "      <th>4</th>\n",
       "      <td>No</td>\n",
       "      <td>27</td>\n",
       "      <td>6</td>\n",
       "      <td>2</td>\n",
       "      <td>2</td>\n",
       "      <td>1</td>\n",
       "      <td>Research &amp; Development</td>\n",
       "      <td>2</td>\n",
       "      <td>2</td>\n",
       "      <td>Travel_Rarely</td>\n",
       "      <td>Male</td>\n",
       "      <td>No</td>\n",
       "      <td>3468</td>\n",
       "    </tr>\n",
       "  </tbody>\n",
       "</table>\n",
       "</div>"
      ],
      "text/plain": [
       "  Attrition  Age  TotalWorkingYears  YearsInCurrentRole  YearsAtCompany  \\\n",
       "0       Yes   41                  8                   4               6   \n",
       "1        No   49                 10                   7              10   \n",
       "2       Yes   37                  7                   0               0   \n",
       "3        No   33                  8                   7               8   \n",
       "4        No   27                  6                   2               2   \n",
       "\n",
       "   StockOptionLevel              Department  DistanceFromHome  \\\n",
       "0                 0                   Sales                 1   \n",
       "1                 1  Research & Development                 8   \n",
       "2                 0  Research & Development                 2   \n",
       "3                 0  Research & Development                 3   \n",
       "4                 1  Research & Development                 2   \n",
       "\n",
       "   YearsSinceLastPromotion     BusinessTravel  Gender OverTime  MonthlyIncome  \n",
       "0                        0      Travel_Rarely  Female      Yes           5993  \n",
       "1                        1  Travel_Frequently    Male       No           5130  \n",
       "2                        0      Travel_Rarely    Male      Yes           2090  \n",
       "3                        3  Travel_Frequently  Female      Yes           2909  \n",
       "4                        2      Travel_Rarely    Male       No           3468  "
      ]
     },
     "execution_count": 14,
     "metadata": {},
     "output_type": "execute_result"
    }
   ],
   "source": [
    "pa.head()"
   ]
  },
  {
   "cell_type": "markdown",
   "metadata": {},
   "source": [
    "## Attrition"
   ]
  },
  {
   "cell_type": "code",
   "execution_count": 47,
   "metadata": {},
   "outputs": [
    {
     "data": {
      "text/plain": [
       "<AxesSubplot:xlabel='Attrition', ylabel='Count'>"
      ]
     },
     "execution_count": 47,
     "metadata": {},
     "output_type": "execute_result"
    },
    {
     "data": {
      "image/png": "[encoded data removed]",
      "text/plain": [
       "<Figure size 432x288 with 1 Axes>"
      ]
     },
     "metadata": {
      "needs_background": "light"
     },
     "output_type": "display_data"
    }
   ],
   "source": [
    "sns.histplot(pa['Attrition'])"
   ]
  },
  {
   "cell_type": "markdown",
   "metadata": {},
   "source": [
    "## Age"
   ]
  },
  {
   "cell_type": "code",
   "execution_count": 19,
   "metadata": {},
   "outputs": [
    {
     "data": {
      "text/plain": [
       "Text(0.5, 1.0, 'Boxplot of Age')"
      ]
     },
     "execution_count": 19,
     "metadata": {},
     "output_type": "execute_result"
    },
    {
     "data": {
      "image/png": "[encoded data removed]",
      "text/plain": [
       "<Figure size 432x288 with 1 Axes>"
      ]
     },
     "metadata": {
      "needs_background": "light"
     },
     "output_type": "display_data"
    }
   ],
   "source": [
    "pa['Age'].plot(kind = 'box')\n",
    "plt.ylabel('Distribution')\n",
    "plt.title('Boxplot of Age')"
   ]
  },
  {
   "cell_type": "markdown",
   "metadata": {},
   "source": [
    "## Total Working Years\n"
   ]
  },
  {
   "cell_type": "code",
   "execution_count": 21,
   "metadata": {},
   "outputs": [
    {
     "data": {
      "text/plain": [
       "Text(0.5, 1.0, 'Boxplot of Total Working Years')"
      ]
     },
     "execution_count": 21,
     "metadata": {},
     "output_type": "execute_result"
    },
    {
     "data": {
      "image/png": "[encoded data removed]",
      "text/plain": [
       "<Figure size 432x288 with 1 Axes>"
      ]
     },
     "metadata": {
      "needs_background": "light"
     },
     "output_type": "display_data"
    }
   ],
   "source": [
    "pa['TotalWorkingYears'].plot(kind = 'box')\n",
    "plt.ylabel('Distribution')\n",
    "plt.title('Boxplot of Total Working Years')"
   ]
  },
  {
   "cell_type": "markdown",
   "metadata": {},
   "source": [
    "## YearsInCurrentRole\t"
   ]
  },
  {
   "cell_type": "code",
   "execution_count": 25,
   "metadata": {},
   "outputs": [
    {
     "data": {
      "text/plain": [
       "<AxesSubplot:xlabel='YearsInCurrentRole'>"
      ]
     },
     "execution_count": 25,
     "metadata": {},
     "output_type": "execute_result"
    },
    {
     "data": {
      "image/png": "[encoded data removed]",
      "text/plain": [
       "<Figure size 432x288 with 1 Axes>"
      ]
     },
     "metadata": {
      "needs_background": "light"
     },
     "output_type": "display_data"
    }
   ],
   "source": [
    "sns.boxplot(pa['YearsInCurrentRole'])"
   ]
  },
  {
   "cell_type": "markdown",
   "metadata": {},
   "source": [
    "## YearsAtCompany"
   ]
  },
  {
   "cell_type": "code",
   "execution_count": 26,
   "metadata": {},
   "outputs": [
    {
     "data": {
      "text/plain": [
       "<AxesSubplot:xlabel='YearsAtCompany'>"
      ]
     },
     "execution_count": 26,
     "metadata": {},
     "output_type": "execute_result"
    },
    {
     "data": {
      "image/png": "[encoded data removed]",
      "text/plain": [
       "<Figure size 432x288 with 1 Axes>"
      ]
     },
     "metadata": {
      "needs_background": "light"
     },
     "output_type": "display_data"
    }
   ],
   "source": [
    "sns.boxplot(pa['YearsAtCompany'])"
   ]
  },
  {
   "cell_type": "markdown",
   "metadata": {},
   "source": [
    "## StockOptionLevel\t"
   ]
  },
  {
   "cell_type": "code",
   "execution_count": 30,
   "metadata": {},
   "outputs": [
    {
     "data": {
      "text/plain": [
       "<AxesSubplot:ylabel='Frequency'>"
      ]
     },
     "execution_count": 30,
     "metadata": {},
     "output_type": "execute_result"
    },
    {
     "data": {
      "image/png": "[encoded data removed]",
      "text/plain": [
       "<Figure size 432x288 with 1 Axes>"
      ]
     },
     "metadata": {
      "needs_background": "light"
     },
     "output_type": "display_data"
    }
   ],
   "source": [
    "pa['StockOptionLevel'].plot(kind='hist')"
   ]
  },
  {
   "cell_type": "code",
   "execution_count": 31,
   "metadata": {},
   "outputs": [
    {
     "data": {
      "text/plain": [
       "<AxesSubplot:xlabel='StockOptionLevel', ylabel='Count'>"
      ]
     },
     "execution_count": 31,
     "metadata": {},
     "output_type": "execute_result"
    },
    {
     "data": {
      "image/png": "[encoded data removed]",
      "text/plain": [
       "<Figure size 432x288 with 1 Axes>"
      ]
     },
     "metadata": {
      "needs_background": "light"
     },
     "output_type": "display_data"
    }
   ],
   "source": [
    "sns.histplot(pa['StockOptionLevel'])"
   ]
  },
  {
   "cell_type": "markdown",
   "metadata": {},
   "source": [
    "## Department\t"
   ]
  },
  {
   "cell_type": "code",
   "execution_count": 35,
   "metadata": {},
   "outputs": [
    {
     "data": {
      "text/plain": [
       "<AxesSubplot:xlabel='Department', ylabel='Count'>"
      ]
     },
     "execution_count": 35,
     "metadata": {},
     "output_type": "execute_result"
    },
    {
     "data": {
      "image/png": "[encoded data removed]",
      "text/plain": [
       "<Figure size 432x288 with 1 Axes>"
      ]
     },
     "metadata": {
      "needs_background": "light"
     },
     "output_type": "display_data"
    }
   ],
   "source": [
    "sns.histplot(pa['Department'])"
   ]
  },
  {
   "cell_type": "markdown",
   "metadata": {},
   "source": [
    "\n",
    "## DistanceFromHome\t"
   ]
  },
  {
   "cell_type": "code",
   "execution_count": 36,
   "metadata": {},
   "outputs": [
    {
     "data": {
      "text/plain": [
       "<AxesSubplot:xlabel='DistanceFromHome'>"
      ]
     },
     "execution_count": 36,
     "metadata": {},
     "output_type": "execute_result"
    },
    {
     "data": {
      "image/png": "[encoded data removed]",
      "text/plain": [
       "<Figure size 432x288 with 1 Axes>"
      ]
     },
     "metadata": {
      "needs_background": "light"
     },
     "output_type": "display_data"
    }
   ],
   "source": [
    "sns.boxplot(pa['DistanceFromHome'])"
   ]
  },
  {
   "cell_type": "markdown",
   "metadata": {},
   "source": [
    "## YearsSinceLastPromotion"
   ]
  },
  {
   "cell_type": "code",
   "execution_count": 37,
   "metadata": {},
   "outputs": [
    {
     "data": {
      "text/plain": [
       "<AxesSubplot:xlabel='YearsSinceLastPromotion'>"
      ]
     },
     "execution_count": 37,
     "metadata": {},
     "output_type": "execute_result"
    },
    {
     "data": {
      "image/png": "[encoded data removed]",
      "text/plain": [
       "<Figure size 432x288 with 1 Axes>"
      ]
     },
     "metadata": {
      "needs_background": "light"
     },
     "output_type": "display_data"
    }
   ],
   "source": [
    "sns.boxplot(pa['YearsSinceLastPromotion'])"
   ]
  },
  {
   "cell_type": "markdown",
   "metadata": {},
   "source": [
    "## BusinessTravel"
   ]
  },
  {
   "cell_type": "code",
   "execution_count": 39,
   "metadata": {},
   "outputs": [
    {
     "data": {
      "text/plain": [
       "<AxesSubplot:xlabel='BusinessTravel', ylabel='Count'>"
      ]
     },
     "execution_count": 39,
     "metadata": {},
     "output_type": "execute_result"
    },
    {
     "data": {
      "image/png": "[encoded data removed]",
      "text/plain": [
       "<Figure size 432x288 with 1 Axes>"
      ]
     },
     "metadata": {
      "needs_background": "light"
     },
     "output_type": "display_data"
    }
   ],
   "source": [
    "sns.histplot(pa['BusinessTravel'])"
   ]
  },
  {
   "cell_type": "markdown",
   "metadata": {},
   "source": [
    "## Gender\t"
   ]
  },
  {
   "cell_type": "code",
   "execution_count": 44,
   "metadata": {},
   "outputs": [
    {
     "data": {
      "text/plain": [
       "Text(0.5, 1.0, 'Histogram of Gender')"
      ]
     },
     "execution_count": 44,
     "metadata": {},
     "output_type": "execute_result"
    },
    {
     "data": {
      "image/png": "[encoded data removed]",
      "text/plain": [
       "<Figure size 288x288 with 1 Axes>"
      ]
     },
     "metadata": {
      "needs_background": "light"
     },
     "output_type": "display_data"
    }
   ],
   "source": [
    "fig = plt.figure(figsize=(4, 4)) \n",
    "plt.hist(pa[\"Gender\"])\n",
    "plt.xlabel('Gender')\n",
    "plt.ylabel('Distribution')\n",
    "plt.title('Histogram of Gender')"
   ]
  },
  {
   "cell_type": "markdown",
   "metadata": {},
   "source": [
    "## OverTime"
   ]
  },
  {
   "cell_type": "code",
   "execution_count": 45,
   "metadata": {},
   "outputs": [
    {
     "data": {
      "text/plain": [
       "<AxesSubplot:xlabel='OverTime', ylabel='Count'>"
      ]
     },
     "execution_count": 45,
     "metadata": {},
     "output_type": "execute_result"
    },
    {
     "data": {
      "image/png": "[encoded data removed]",
      "text/plain": [
       "<Figure size 432x288 with 1 Axes>"
      ]
     },
     "metadata": {
      "needs_background": "light"
     },
     "output_type": "display_data"
    }
   ],
   "source": [
    "sns.histplot(pa['OverTime'])"
   ]
  },
  {
   "cell_type": "markdown",
   "metadata": {},
   "source": [
    "## MonthlyIncome"
   ]
  },
  {
   "cell_type": "code",
   "execution_count": 46,
   "metadata": {},
   "outputs": [
    {
     "data": {
      "text/plain": [
       "<AxesSubplot:xlabel='MonthlyIncome'>"
      ]
     },
     "execution_count": 46,
     "metadata": {},
     "output_type": "execute_result"
    },
    {
     "data": {
      "image/png": "[encoded data removed]",
      "text/plain": [
       "<Figure size 432x288 with 1 Axes>"
      ]
     },
     "metadata": {
      "needs_background": "light"
     },
     "output_type": "display_data"
    }
   ],
   "source": [
    "sns.boxplot(pa['MonthlyIncome'])"
   ]
  },
  {
   "cell_type": "markdown",
   "metadata": {},
   "source": [
    "# Bivariate Analysis"
   ]
  },
  {
   "cell_type": "code",
   "execution_count": 48,
   "metadata": {},
   "outputs": [
    {
     "data": {
      "text/html": [
       "<div>\n",
       "<style scoped>\n",
       "    .dataframe tbody tr th:only-of-type {\n",
       "        vertical-align: middle;\n",
       "    }\n",
       "\n",
       "    .dataframe tbody tr th {\n",
       "        vertical-align: top;\n",
       "    }\n",
       "\n",
       "    .dataframe thead th {\n",
       "        text-align: right;\n",
       "    }\n",
       "</style>\n",
       "<table border=\"1\" class=\"dataframe\">\n",
       "  <thead>\n",
       "    <tr style=\"text-align: right;\">\n",
       "      <th></th>\n",
       "      <th>Attrition</th>\n",
       "      <th>Age</th>\n",
       "      <th>TotalWorkingYears</th>\n",
       "      <th>YearsInCurrentRole</th>\n",
       "      <th>YearsAtCompany</th>\n",
       "      <th>StockOptionLevel</th>\n",
       "      <th>Department</th>\n",
       "      <th>DistanceFromHome</th>\n",
       "      <th>YearsSinceLastPromotion</th>\n",
       "      <th>BusinessTravel</th>\n",
       "      <th>Gender</th>\n",
       "      <th>OverTime</th>\n",
       "      <th>MonthlyIncome</th>\n",
       "    </tr>\n",
       "  </thead>\n",
       "  <tbody>\n",
       "    <tr>\n",
       "      <th>0</th>\n",
       "      <td>Yes</td>\n",
       "      <td>41</td>\n",
       "      <td>8</td>\n",
       "      <td>4</td>\n",
       "      <td>6</td>\n",
       "      <td>0</td>\n",
       "      <td>Sales</td>\n",
       "      <td>1</td>\n",
       "      <td>0</td>\n",
       "      <td>Travel_Rarely</td>\n",
       "      <td>Female</td>\n",
       "      <td>Yes</td>\n",
       "      <td>5993</td>\n",
       "    </tr>\n",
       "    <tr>\n",
       "      <th>1</th>\n",
       "      <td>No</td>\n",
       "      <td>49</td>\n",
       "      <td>10</td>\n",
       "      <td>7</td>\n",
       "      <td>10</td>\n",
       "      <td>1</td>\n",
       "      <td>Research &amp; Development</td>\n",
       "      <td>8</td>\n",
       "      <td>1</td>\n",
       "      <td>Travel_Frequently</td>\n",
       "      <td>Male</td>\n",
       "      <td>No</td>\n",
       "      <td>5130</td>\n",
       "    </tr>\n",
       "    <tr>\n",
       "      <th>2</th>\n",
       "      <td>Yes</td>\n",
       "      <td>37</td>\n",
       "      <td>7</td>\n",
       "      <td>0</td>\n",
       "      <td>0</td>\n",
       "      <td>0</td>\n",
       "      <td>Research &amp; Development</td>\n",
       "      <td>2</td>\n",
       "      <td>0</td>\n",
       "      <td>Travel_Rarely</td>\n",
       "      <td>Male</td>\n",
       "      <td>Yes</td>\n",
       "      <td>2090</td>\n",
       "    </tr>\n",
       "    <tr>\n",
       "      <th>3</th>\n",
       "      <td>No</td>\n",
       "      <td>33</td>\n",
       "      <td>8</td>\n",
       "      <td>7</td>\n",
       "      <td>8</td>\n",
       "      <td>0</td>\n",
       "      <td>Research &amp; Development</td>\n",
       "      <td>3</td>\n",
       "      <td>3</td>\n",
       "      <td>Travel_Frequently</td>\n",
       "      <td>Female</td>\n",
       "      <td>Yes</td>\n",
       "      <td>2909</td>\n",
       "    </tr>\n",
       "    <tr>\n",
       "      <th>4</th>\n",
       "      <td>No</td>\n",
       "      <td>27</td>\n",
       "      <td>6</td>\n",
       "      <td>2</td>\n",
       "      <td>2</td>\n",
       "      <td>1</td>\n",
       "      <td>Research &amp; Development</td>\n",
       "      <td>2</td>\n",
       "      <td>2</td>\n",
       "      <td>Travel_Rarely</td>\n",
       "      <td>Male</td>\n",
       "      <td>No</td>\n",
       "      <td>3468</td>\n",
       "    </tr>\n",
       "  </tbody>\n",
       "</table>\n",
       "</div>"
      ],
      "text/plain": [
       "  Attrition  Age  TotalWorkingYears  YearsInCurrentRole  YearsAtCompany  \\\n",
       "0       Yes   41                  8                   4               6   \n",
       "1        No   49                 10                   7              10   \n",
       "2       Yes   37                  7                   0               0   \n",
       "3        No   33                  8                   7               8   \n",
       "4        No   27                  6                   2               2   \n",
       "\n",
       "   StockOptionLevel              Department  DistanceFromHome  \\\n",
       "0                 0                   Sales                 1   \n",
       "1                 1  Research & Development                 8   \n",
       "2                 0  Research & Development                 2   \n",
       "3                 0  Research & Development                 3   \n",
       "4                 1  Research & Development                 2   \n",
       "\n",
       "   YearsSinceLastPromotion     BusinessTravel  Gender OverTime  MonthlyIncome  \n",
       "0                        0      Travel_Rarely  Female      Yes           5993  \n",
       "1                        1  Travel_Frequently    Male       No           5130  \n",
       "2                        0      Travel_Rarely    Male      Yes           2090  \n",
       "3                        3  Travel_Frequently  Female      Yes           2909  \n",
       "4                        2      Travel_Rarely    Male       No           3468  "
      ]
     },
     "execution_count": 48,
     "metadata": {},
     "output_type": "execute_result"
    }
   ],
   "source": [
    "pa.head()"
   ]
  },
  {
   "cell_type": "markdown",
   "metadata": {},
   "source": [
    "## HR suspect:"
   ]
  },
  {
   "cell_type": "markdown",
   "metadata": {},
   "source": [
    "## -> Análise da variável  MonthyIncome\n"
   ]
  },
  {
   "cell_type": "code",
   "execution_count": 67,
   "metadata": {},
   "outputs": [
    {
     "data": {
      "text/plain": [
       "Text(0.5, 1.0, 'Bloxplot of Attrition x Monthly Income')"
      ]
     },
     "execution_count": 67,
     "metadata": {},
     "output_type": "execute_result"
    },
    {
     "data": {
      "image/png": "[encoded data removed]",
      "text/plain": [
       "<Figure size 432x288 with 1 Axes>"
      ]
     },
     "metadata": {
      "needs_background": "light"
     },
     "output_type": "display_data"
    }
   ],
   "source": [
    "bplot = sns.boxplot(\n",
    "    y='MonthlyIncome', x='Attrition', \n",
    "    data= pa, \n",
    "    width=0.5,\n",
    "    palette=\"Set2\"\n",
    ")\n",
    "\n",
    "plt.xlabel('Attrition')\n",
    "plt.ylabel('MonthlyIncome')\n",
    "plt.title('Bloxplot of Attrition x Monthly Income')"
   ]
  },
  {
   "cell_type": "markdown",
   "metadata": {},
   "source": [
    "## -> Análise cruzada das variáveis Department e Attrition \n"
   ]
  },
  {
   "cell_type": "code",
   "execution_count": 64,
   "metadata": {},
   "outputs": [
    {
     "data": {
      "text/html": [
       "<div>\n",
       "<style scoped>\n",
       "    .dataframe tbody tr th:only-of-type {\n",
       "        vertical-align: middle;\n",
       "    }\n",
       "\n",
       "    .dataframe tbody tr th {\n",
       "        vertical-align: top;\n",
       "    }\n",
       "\n",
       "    .dataframe thead th {\n",
       "        text-align: right;\n",
       "    }\n",
       "</style>\n",
       "<table border=\"1\" class=\"dataframe\">\n",
       "  <thead>\n",
       "    <tr style=\"text-align: right;\">\n",
       "      <th>Attrition</th>\n",
       "      <th>No</th>\n",
       "      <th>Yes</th>\n",
       "      <th>All</th>\n",
       "    </tr>\n",
       "    <tr>\n",
       "      <th>Department</th>\n",
       "      <th></th>\n",
       "      <th></th>\n",
       "      <th></th>\n",
       "    </tr>\n",
       "  </thead>\n",
       "  <tbody>\n",
       "    <tr>\n",
       "      <th>Human Resources</th>\n",
       "      <td>0.034694</td>\n",
       "      <td>0.008163</td>\n",
       "      <td>0.042857</td>\n",
       "    </tr>\n",
       "    <tr>\n",
       "      <th>Research &amp; Development</th>\n",
       "      <td>0.563265</td>\n",
       "      <td>0.090476</td>\n",
       "      <td>0.653741</td>\n",
       "    </tr>\n",
       "    <tr>\n",
       "      <th>Sales</th>\n",
       "      <td>0.240816</td>\n",
       "      <td>0.062585</td>\n",
       "      <td>0.303401</td>\n",
       "    </tr>\n",
       "    <tr>\n",
       "      <th>All</th>\n",
       "      <td>0.838776</td>\n",
       "      <td>0.161224</td>\n",
       "      <td>1.000000</td>\n",
       "    </tr>\n",
       "  </tbody>\n",
       "</table>\n",
       "</div>"
      ],
      "text/plain": [
       "Attrition                     No       Yes       All\n",
       "Department                                          \n",
       "Human Resources         0.034694  0.008163  0.042857\n",
       "Research & Development  0.563265  0.090476  0.653741\n",
       "Sales                   0.240816  0.062585  0.303401\n",
       "All                     0.838776  0.161224  1.000000"
      ]
     },
     "execution_count": 64,
     "metadata": {},
     "output_type": "execute_result"
    }
   ],
   "source": [
    "pd.crosstab(pa[\"Department\"], pa[\"Attrition\"], margins=True, normalize=True)"
   ]
  },
  {
   "cell_type": "markdown",
   "metadata": {},
   "source": [
    "## -> Análise da relevância da variável stock option\n"
   ]
  },
  {
   "cell_type": "code",
   "execution_count": 71,
   "metadata": {},
   "outputs": [
    {
     "data": {
      "text/html": [
       "<div>\n",
       "<style scoped>\n",
       "    .dataframe tbody tr th:only-of-type {\n",
       "        vertical-align: middle;\n",
       "    }\n",
       "\n",
       "    .dataframe tbody tr th {\n",
       "        vertical-align: top;\n",
       "    }\n",
       "\n",
       "    .dataframe thead th {\n",
       "        text-align: right;\n",
       "    }\n",
       "</style>\n",
       "<table border=\"1\" class=\"dataframe\">\n",
       "  <thead>\n",
       "    <tr style=\"text-align: right;\">\n",
       "      <th>Attrition</th>\n",
       "      <th>No</th>\n",
       "      <th>Yes</th>\n",
       "      <th>All</th>\n",
       "    </tr>\n",
       "    <tr>\n",
       "      <th>StockOptionLevel</th>\n",
       "      <th></th>\n",
       "      <th></th>\n",
       "      <th></th>\n",
       "    </tr>\n",
       "  </thead>\n",
       "  <tbody>\n",
       "    <tr>\n",
       "      <th>0</th>\n",
       "      <td>477</td>\n",
       "      <td>154</td>\n",
       "      <td>631</td>\n",
       "    </tr>\n",
       "    <tr>\n",
       "      <th>1</th>\n",
       "      <td>756</td>\n",
       "      <td>83</td>\n",
       "      <td>839</td>\n",
       "    </tr>\n",
       "    <tr>\n",
       "      <th>All</th>\n",
       "      <td>1233</td>\n",
       "      <td>237</td>\n",
       "      <td>1470</td>\n",
       "    </tr>\n",
       "  </tbody>\n",
       "</table>\n",
       "</div>"
      ],
      "text/plain": [
       "Attrition           No  Yes   All\n",
       "StockOptionLevel                 \n",
       "0                  477  154   631\n",
       "1                  756   83   839\n",
       "All               1233  237  1470"
      ]
     },
     "execution_count": 71,
     "metadata": {},
     "output_type": "execute_result"
    }
   ],
   "source": [
    "pd.crosstab(pa[\"StockOptionLevel\"], pa[\"Attrition\"], margins=True, normalize=False)"
   ]
  },
  {
   "cell_type": "markdown",
   "metadata": {},
   "source": [
    "# Análise bivariada das variáveis explicativas"
   ]
  },
  {
   "cell_type": "markdown",
   "metadata": {},
   "source": [
    "## Categorização das variáveis quantitativas"
   ]
  },
  {
   "cell_type": "code",
   "execution_count": 135,
   "metadata": {},
   "outputs": [],
   "source": [
    "pa['Age_bins'] = pd.qcut(\n",
    "                    x = pa[\"Age\"], \n",
    "                    q=5,\n",
    "                    )"
   ]
  },
  {
   "cell_type": "code",
   "execution_count": 136,
   "metadata": {},
   "outputs": [],
   "source": [
    "pa['TotalWorkingYears_bins'] = pd.qcut(x = pa[\"TotalWorkingYears\"], q=5,)\n",
    "pa['YearsInCurrentRole_bins'] = pd.qcut(x = pa[\"YearsInCurrentRole\"], q=5,)\n",
    "pa['YearsAtCompany_bins'] = pd.qcut(x = pa[\"YearsAtCompany\"], q=5,)\n",
    "pa['DistanceFromHome_bins'] = pd.qcut(x = pa[\"DistanceFromHome\"], q=5,)\n",
    "pa['YearsSinceLastPromotion_bins'] = pd.qcut(x = pa[\"YearsSinceLastPromotion\"], q=5, duplicates='drop')\n",
    "pa['MonthlyIncome_bins'] = pd.qcut(x = pa[\"MonthlyIncome\"], q=5,)\n"
   ]
  },
  {
   "cell_type": "markdown",
   "metadata": {},
   "source": [
    "## Selecionando as colunas de interesse"
   ]
  },
  {
   "cell_type": "code",
   "execution_count": 143,
   "metadata": {},
   "outputs": [],
   "source": [
    "pa_editada = pa.iloc[:, [0,5,6,9,10,11,13,14,15,16,17,18,19]] #dois parâmetros"
   ]
  },
  {
   "cell_type": "code",
   "execution_count": 149,
   "metadata": {},
   "outputs": [
    {
     "data": {
      "text/html": [
       "<div>\n",
       "<style scoped>\n",
       "    .dataframe tbody tr th:only-of-type {\n",
       "        vertical-align: middle;\n",
       "    }\n",
       "\n",
       "    .dataframe tbody tr th {\n",
       "        vertical-align: top;\n",
       "    }\n",
       "\n",
       "    .dataframe thead th {\n",
       "        text-align: right;\n",
       "    }\n",
       "</style>\n",
       "<table border=\"1\" class=\"dataframe\">\n",
       "  <thead>\n",
       "    <tr style=\"text-align: right;\">\n",
       "      <th>Attrition</th>\n",
       "      <th>No</th>\n",
       "      <th>Yes</th>\n",
       "      <th>All</th>\n",
       "    </tr>\n",
       "    <tr>\n",
       "      <th>StockOptionLevel</th>\n",
       "      <th></th>\n",
       "      <th></th>\n",
       "      <th></th>\n",
       "    </tr>\n",
       "  </thead>\n",
       "  <tbody>\n",
       "    <tr>\n",
       "      <th>0</th>\n",
       "      <td>477</td>\n",
       "      <td>154</td>\n",
       "      <td>631</td>\n",
       "    </tr>\n",
       "    <tr>\n",
       "      <th>1</th>\n",
       "      <td>756</td>\n",
       "      <td>83</td>\n",
       "      <td>839</td>\n",
       "    </tr>\n",
       "    <tr>\n",
       "      <th>All</th>\n",
       "      <td>1233</td>\n",
       "      <td>237</td>\n",
       "      <td>1470</td>\n",
       "    </tr>\n",
       "  </tbody>\n",
       "</table>\n",
       "</div>"
      ],
      "text/plain": [
       "Attrition           No  Yes   All\n",
       "StockOptionLevel                 \n",
       "0                  477  154   631\n",
       "1                  756   83   839\n",
       "All               1233  237  1470"
      ]
     },
     "execution_count": 149,
     "metadata": {},
     "output_type": "execute_result"
    }
   ],
   "source": [
    "pd.crosstab(pa_editada[\"StockOptionLevel\"], pa_editada[\"Attrition\"],margins = True)"
   ]
  },
  {
   "cell_type": "code",
   "execution_count": 151,
   "metadata": {},
   "outputs": [
    {
     "data": {
      "text/html": [
       "<div>\n",
       "<style scoped>\n",
       "    .dataframe tbody tr th:only-of-type {\n",
       "        vertical-align: middle;\n",
       "    }\n",
       "\n",
       "    .dataframe tbody tr th {\n",
       "        vertical-align: top;\n",
       "    }\n",
       "\n",
       "    .dataframe thead th {\n",
       "        text-align: right;\n",
       "    }\n",
       "</style>\n",
       "<table border=\"1\" class=\"dataframe\">\n",
       "  <thead>\n",
       "    <tr style=\"text-align: right;\">\n",
       "      <th>Attrition</th>\n",
       "      <th>No</th>\n",
       "      <th>Yes</th>\n",
       "      <th>All</th>\n",
       "    </tr>\n",
       "    <tr>\n",
       "      <th>Department</th>\n",
       "      <th></th>\n",
       "      <th></th>\n",
       "      <th></th>\n",
       "    </tr>\n",
       "  </thead>\n",
       "  <tbody>\n",
       "    <tr>\n",
       "      <th>Human Resources</th>\n",
       "      <td>51</td>\n",
       "      <td>12</td>\n",
       "      <td>63</td>\n",
       "    </tr>\n",
       "    <tr>\n",
       "      <th>Research &amp; Development</th>\n",
       "      <td>828</td>\n",
       "      <td>133</td>\n",
       "      <td>961</td>\n",
       "    </tr>\n",
       "    <tr>\n",
       "      <th>Sales</th>\n",
       "      <td>354</td>\n",
       "      <td>92</td>\n",
       "      <td>446</td>\n",
       "    </tr>\n",
       "    <tr>\n",
       "      <th>All</th>\n",
       "      <td>1233</td>\n",
       "      <td>237</td>\n",
       "      <td>1470</td>\n",
       "    </tr>\n",
       "  </tbody>\n",
       "</table>\n",
       "</div>"
      ],
      "text/plain": [
       "Attrition                 No  Yes   All\n",
       "Department                             \n",
       "Human Resources           51   12    63\n",
       "Research & Development   828  133   961\n",
       "Sales                    354   92   446\n",
       "All                     1233  237  1470"
      ]
     },
     "execution_count": 151,
     "metadata": {},
     "output_type": "execute_result"
    }
   ],
   "source": [
    "pd.crosstab(pa_editada[\"Department\"], pa_editada[\"Attrition\"],margins = True)"
   ]
  },
  {
   "cell_type": "code",
   "execution_count": 152,
   "metadata": {},
   "outputs": [
    {
     "data": {
      "text/html": [
       "<div>\n",
       "<style scoped>\n",
       "    .dataframe tbody tr th:only-of-type {\n",
       "        vertical-align: middle;\n",
       "    }\n",
       "\n",
       "    .dataframe tbody tr th {\n",
       "        vertical-align: top;\n",
       "    }\n",
       "\n",
       "    .dataframe thead th {\n",
       "        text-align: right;\n",
       "    }\n",
       "</style>\n",
       "<table border=\"1\" class=\"dataframe\">\n",
       "  <thead>\n",
       "    <tr style=\"text-align: right;\">\n",
       "      <th>Attrition</th>\n",
       "      <th>No</th>\n",
       "      <th>Yes</th>\n",
       "      <th>All</th>\n",
       "    </tr>\n",
       "    <tr>\n",
       "      <th>BusinessTravel</th>\n",
       "      <th></th>\n",
       "      <th></th>\n",
       "      <th></th>\n",
       "    </tr>\n",
       "  </thead>\n",
       "  <tbody>\n",
       "    <tr>\n",
       "      <th>Non-Travel</th>\n",
       "      <td>138</td>\n",
       "      <td>12</td>\n",
       "      <td>150</td>\n",
       "    </tr>\n",
       "    <tr>\n",
       "      <th>Travel_Frequently</th>\n",
       "      <td>208</td>\n",
       "      <td>69</td>\n",
       "      <td>277</td>\n",
       "    </tr>\n",
       "    <tr>\n",
       "      <th>Travel_Rarely</th>\n",
       "      <td>887</td>\n",
       "      <td>156</td>\n",
       "      <td>1043</td>\n",
       "    </tr>\n",
       "    <tr>\n",
       "      <th>All</th>\n",
       "      <td>1233</td>\n",
       "      <td>237</td>\n",
       "      <td>1470</td>\n",
       "    </tr>\n",
       "  </tbody>\n",
       "</table>\n",
       "</div>"
      ],
      "text/plain": [
       "Attrition            No  Yes   All\n",
       "BusinessTravel                    \n",
       "Non-Travel          138   12   150\n",
       "Travel_Frequently   208   69   277\n",
       "Travel_Rarely       887  156  1043\n",
       "All                1233  237  1470"
      ]
     },
     "execution_count": 152,
     "metadata": {},
     "output_type": "execute_result"
    }
   ],
   "source": [
    "pd.crosstab(pa_editada[\"BusinessTravel\"], pa_editada[\"Attrition\"],margins = True)"
   ]
  },
  {
   "cell_type": "code",
   "execution_count": 153,
   "metadata": {},
   "outputs": [
    {
     "data": {
      "text/html": [
       "<div>\n",
       "<style scoped>\n",
       "    .dataframe tbody tr th:only-of-type {\n",
       "        vertical-align: middle;\n",
       "    }\n",
       "\n",
       "    .dataframe tbody tr th {\n",
       "        vertical-align: top;\n",
       "    }\n",
       "\n",
       "    .dataframe thead th {\n",
       "        text-align: right;\n",
       "    }\n",
       "</style>\n",
       "<table border=\"1\" class=\"dataframe\">\n",
       "  <thead>\n",
       "    <tr style=\"text-align: right;\">\n",
       "      <th>Attrition</th>\n",
       "      <th>No</th>\n",
       "      <th>Yes</th>\n",
       "      <th>All</th>\n",
       "    </tr>\n",
       "    <tr>\n",
       "      <th>Gender</th>\n",
       "      <th></th>\n",
       "      <th></th>\n",
       "      <th></th>\n",
       "    </tr>\n",
       "  </thead>\n",
       "  <tbody>\n",
       "    <tr>\n",
       "      <th>Female</th>\n",
       "      <td>501</td>\n",
       "      <td>87</td>\n",
       "      <td>588</td>\n",
       "    </tr>\n",
       "    <tr>\n",
       "      <th>Male</th>\n",
       "      <td>732</td>\n",
       "      <td>150</td>\n",
       "      <td>882</td>\n",
       "    </tr>\n",
       "    <tr>\n",
       "      <th>All</th>\n",
       "      <td>1233</td>\n",
       "      <td>237</td>\n",
       "      <td>1470</td>\n",
       "    </tr>\n",
       "  </tbody>\n",
       "</table>\n",
       "</div>"
      ],
      "text/plain": [
       "Attrition    No  Yes   All\n",
       "Gender                    \n",
       "Female      501   87   588\n",
       "Male        732  150   882\n",
       "All        1233  237  1470"
      ]
     },
     "execution_count": 153,
     "metadata": {},
     "output_type": "execute_result"
    }
   ],
   "source": [
    "pd.crosstab(pa_editada[\"Gender\"], pa_editada[\"Attrition\"],margins = True)"
   ]
  },
  {
   "cell_type": "code",
   "execution_count": 154,
   "metadata": {},
   "outputs": [
    {
     "data": {
      "text/html": [
       "<div>\n",
       "<style scoped>\n",
       "    .dataframe tbody tr th:only-of-type {\n",
       "        vertical-align: middle;\n",
       "    }\n",
       "\n",
       "    .dataframe tbody tr th {\n",
       "        vertical-align: top;\n",
       "    }\n",
       "\n",
       "    .dataframe thead th {\n",
       "        text-align: right;\n",
       "    }\n",
       "</style>\n",
       "<table border=\"1\" class=\"dataframe\">\n",
       "  <thead>\n",
       "    <tr style=\"text-align: right;\">\n",
       "      <th>Attrition</th>\n",
       "      <th>No</th>\n",
       "      <th>Yes</th>\n",
       "      <th>All</th>\n",
       "    </tr>\n",
       "    <tr>\n",
       "      <th>OverTime</th>\n",
       "      <th></th>\n",
       "      <th></th>\n",
       "      <th></th>\n",
       "    </tr>\n",
       "  </thead>\n",
       "  <tbody>\n",
       "    <tr>\n",
       "      <th>No</th>\n",
       "      <td>944</td>\n",
       "      <td>110</td>\n",
       "      <td>1054</td>\n",
       "    </tr>\n",
       "    <tr>\n",
       "      <th>Yes</th>\n",
       "      <td>289</td>\n",
       "      <td>127</td>\n",
       "      <td>416</td>\n",
       "    </tr>\n",
       "    <tr>\n",
       "      <th>All</th>\n",
       "      <td>1233</td>\n",
       "      <td>237</td>\n",
       "      <td>1470</td>\n",
       "    </tr>\n",
       "  </tbody>\n",
       "</table>\n",
       "</div>"
      ],
      "text/plain": [
       "Attrition    No  Yes   All\n",
       "OverTime                  \n",
       "No          944  110  1054\n",
       "Yes         289  127   416\n",
       "All        1233  237  1470"
      ]
     },
     "execution_count": 154,
     "metadata": {},
     "output_type": "execute_result"
    }
   ],
   "source": [
    "pd.crosstab(pa_editada[\"OverTime\"], pa_editada[\"Attrition\"],margins = True)"
   ]
  },
  {
   "cell_type": "code",
   "execution_count": 155,
   "metadata": {},
   "outputs": [
    {
     "data": {
      "text/html": [
       "<div>\n",
       "<style scoped>\n",
       "    .dataframe tbody tr th:only-of-type {\n",
       "        vertical-align: middle;\n",
       "    }\n",
       "\n",
       "    .dataframe tbody tr th {\n",
       "        vertical-align: top;\n",
       "    }\n",
       "\n",
       "    .dataframe thead th {\n",
       "        text-align: right;\n",
       "    }\n",
       "</style>\n",
       "<table border=\"1\" class=\"dataframe\">\n",
       "  <thead>\n",
       "    <tr style=\"text-align: right;\">\n",
       "      <th>Attrition</th>\n",
       "      <th>No</th>\n",
       "      <th>Yes</th>\n",
       "      <th>All</th>\n",
       "    </tr>\n",
       "    <tr>\n",
       "      <th>Age_bins</th>\n",
       "      <th></th>\n",
       "      <th></th>\n",
       "      <th></th>\n",
       "    </tr>\n",
       "  </thead>\n",
       "  <tbody>\n",
       "    <tr>\n",
       "      <th>(17.999, 29.0]</th>\n",
       "      <td>235</td>\n",
       "      <td>91</td>\n",
       "      <td>326</td>\n",
       "    </tr>\n",
       "    <tr>\n",
       "      <th>(29.0, 34.0]</th>\n",
       "      <td>266</td>\n",
       "      <td>59</td>\n",
       "      <td>325</td>\n",
       "    </tr>\n",
       "    <tr>\n",
       "      <th>(34.0, 38.0]</th>\n",
       "      <td>231</td>\n",
       "      <td>24</td>\n",
       "      <td>255</td>\n",
       "    </tr>\n",
       "    <tr>\n",
       "      <th>(38.0, 45.0]</th>\n",
       "      <td>262</td>\n",
       "      <td>29</td>\n",
       "      <td>291</td>\n",
       "    </tr>\n",
       "    <tr>\n",
       "      <th>(45.0, 60.0]</th>\n",
       "      <td>239</td>\n",
       "      <td>34</td>\n",
       "      <td>273</td>\n",
       "    </tr>\n",
       "    <tr>\n",
       "      <th>All</th>\n",
       "      <td>1233</td>\n",
       "      <td>237</td>\n",
       "      <td>1470</td>\n",
       "    </tr>\n",
       "  </tbody>\n",
       "</table>\n",
       "</div>"
      ],
      "text/plain": [
       "Attrition         No  Yes   All\n",
       "Age_bins                       \n",
       "(17.999, 29.0]   235   91   326\n",
       "(29.0, 34.0]     266   59   325\n",
       "(34.0, 38.0]     231   24   255\n",
       "(38.0, 45.0]     262   29   291\n",
       "(45.0, 60.0]     239   34   273\n",
       "All             1233  237  1470"
      ]
     },
     "execution_count": 155,
     "metadata": {},
     "output_type": "execute_result"
    }
   ],
   "source": [
    "pd.crosstab(pa_editada[\"Age_bins\"], pa_editada[\"Attrition\"],margins = True)"
   ]
  },
  {
   "cell_type": "code",
   "execution_count": 156,
   "metadata": {},
   "outputs": [
    {
     "data": {
      "text/html": [
       "<div>\n",
       "<style scoped>\n",
       "    .dataframe tbody tr th:only-of-type {\n",
       "        vertical-align: middle;\n",
       "    }\n",
       "\n",
       "    .dataframe tbody tr th {\n",
       "        vertical-align: top;\n",
       "    }\n",
       "\n",
       "    .dataframe thead th {\n",
       "        text-align: right;\n",
       "    }\n",
       "</style>\n",
       "<table border=\"1\" class=\"dataframe\">\n",
       "  <thead>\n",
       "    <tr style=\"text-align: right;\">\n",
       "      <th>Attrition</th>\n",
       "      <th>No</th>\n",
       "      <th>Yes</th>\n",
       "      <th>All</th>\n",
       "    </tr>\n",
       "    <tr>\n",
       "      <th>TotalWorkingYears_bins</th>\n",
       "      <th></th>\n",
       "      <th></th>\n",
       "      <th></th>\n",
       "    </tr>\n",
       "  </thead>\n",
       "  <tbody>\n",
       "    <tr>\n",
       "      <th>(-0.001, 5.0]</th>\n",
       "      <td>225</td>\n",
       "      <td>91</td>\n",
       "      <td>316</td>\n",
       "    </tr>\n",
       "    <tr>\n",
       "      <th>(5.0, 8.0]</th>\n",
       "      <td>253</td>\n",
       "      <td>56</td>\n",
       "      <td>309</td>\n",
       "    </tr>\n",
       "    <tr>\n",
       "      <th>(8.0, 10.0]</th>\n",
       "      <td>263</td>\n",
       "      <td>35</td>\n",
       "      <td>298</td>\n",
       "    </tr>\n",
       "    <tr>\n",
       "      <th>(10.0, 17.0]</th>\n",
       "      <td>231</td>\n",
       "      <td>30</td>\n",
       "      <td>261</td>\n",
       "    </tr>\n",
       "    <tr>\n",
       "      <th>(17.0, 40.0]</th>\n",
       "      <td>261</td>\n",
       "      <td>25</td>\n",
       "      <td>286</td>\n",
       "    </tr>\n",
       "    <tr>\n",
       "      <th>All</th>\n",
       "      <td>1233</td>\n",
       "      <td>237</td>\n",
       "      <td>1470</td>\n",
       "    </tr>\n",
       "  </tbody>\n",
       "</table>\n",
       "</div>"
      ],
      "text/plain": [
       "Attrition                 No  Yes   All\n",
       "TotalWorkingYears_bins                 \n",
       "(-0.001, 5.0]            225   91   316\n",
       "(5.0, 8.0]               253   56   309\n",
       "(8.0, 10.0]              263   35   298\n",
       "(10.0, 17.0]             231   30   261\n",
       "(17.0, 40.0]             261   25   286\n",
       "All                     1233  237  1470"
      ]
     },
     "execution_count": 156,
     "metadata": {},
     "output_type": "execute_result"
    }
   ],
   "source": [
    "pd.crosstab(pa_editada[\"TotalWorkingYears_bins\"], pa_editada[\"Attrition\"],margins = True)"
   ]
  },
  {
   "cell_type": "code",
   "execution_count": 157,
   "metadata": {},
   "outputs": [
    {
     "data": {
      "text/html": [
       "<div>\n",
       "<style scoped>\n",
       "    .dataframe tbody tr th:only-of-type {\n",
       "        vertical-align: middle;\n",
       "    }\n",
       "\n",
       "    .dataframe tbody tr th {\n",
       "        vertical-align: top;\n",
       "    }\n",
       "\n",
       "    .dataframe thead th {\n",
       "        text-align: right;\n",
       "    }\n",
       "</style>\n",
       "<table border=\"1\" class=\"dataframe\">\n",
       "  <thead>\n",
       "    <tr style=\"text-align: right;\">\n",
       "      <th>Attrition</th>\n",
       "      <th>No</th>\n",
       "      <th>Yes</th>\n",
       "      <th>All</th>\n",
       "    </tr>\n",
       "    <tr>\n",
       "      <th>YearsInCurrentRole_bins</th>\n",
       "      <th></th>\n",
       "      <th></th>\n",
       "      <th></th>\n",
       "    </tr>\n",
       "  </thead>\n",
       "  <tbody>\n",
       "    <tr>\n",
       "      <th>(-0.001, 1.0]</th>\n",
       "      <td>217</td>\n",
       "      <td>84</td>\n",
       "      <td>301</td>\n",
       "    </tr>\n",
       "    <tr>\n",
       "      <th>(1.0, 2.0]</th>\n",
       "      <td>304</td>\n",
       "      <td>68</td>\n",
       "      <td>372</td>\n",
       "    </tr>\n",
       "    <tr>\n",
       "      <th>(2.0, 4.0]</th>\n",
       "      <td>208</td>\n",
       "      <td>31</td>\n",
       "      <td>239</td>\n",
       "    </tr>\n",
       "    <tr>\n",
       "      <th>(4.0, 7.0]</th>\n",
       "      <td>261</td>\n",
       "      <td>34</td>\n",
       "      <td>295</td>\n",
       "    </tr>\n",
       "    <tr>\n",
       "      <th>(7.0, 18.0]</th>\n",
       "      <td>243</td>\n",
       "      <td>20</td>\n",
       "      <td>263</td>\n",
       "    </tr>\n",
       "    <tr>\n",
       "      <th>All</th>\n",
       "      <td>1233</td>\n",
       "      <td>237</td>\n",
       "      <td>1470</td>\n",
       "    </tr>\n",
       "  </tbody>\n",
       "</table>\n",
       "</div>"
      ],
      "text/plain": [
       "Attrition                  No  Yes   All\n",
       "YearsInCurrentRole_bins                 \n",
       "(-0.001, 1.0]             217   84   301\n",
       "(1.0, 2.0]                304   68   372\n",
       "(2.0, 4.0]                208   31   239\n",
       "(4.0, 7.0]                261   34   295\n",
       "(7.0, 18.0]               243   20   263\n",
       "All                      1233  237  1470"
      ]
     },
     "execution_count": 157,
     "metadata": {},
     "output_type": "execute_result"
    }
   ],
   "source": [
    "pd.crosstab(pa_editada[\"YearsInCurrentRole_bins\"], pa_editada[\"Attrition\"],margins = True)"
   ]
  },
  {
   "cell_type": "code",
   "execution_count": 158,
   "metadata": {},
   "outputs": [
    {
     "data": {
      "text/html": [
       "<div>\n",
       "<style scoped>\n",
       "    .dataframe tbody tr th:only-of-type {\n",
       "        vertical-align: middle;\n",
       "    }\n",
       "\n",
       "    .dataframe tbody tr th {\n",
       "        vertical-align: top;\n",
       "    }\n",
       "\n",
       "    .dataframe thead th {\n",
       "        text-align: right;\n",
       "    }\n",
       "</style>\n",
       "<table border=\"1\" class=\"dataframe\">\n",
       "  <thead>\n",
       "    <tr style=\"text-align: right;\">\n",
       "      <th>Attrition</th>\n",
       "      <th>No</th>\n",
       "      <th>Yes</th>\n",
       "      <th>All</th>\n",
       "    </tr>\n",
       "    <tr>\n",
       "      <th>YearsAtCompany_bins</th>\n",
       "      <th></th>\n",
       "      <th></th>\n",
       "      <th></th>\n",
       "    </tr>\n",
       "  </thead>\n",
       "  <tbody>\n",
       "    <tr>\n",
       "      <th>(-0.001, 2.0]</th>\n",
       "      <td>240</td>\n",
       "      <td>102</td>\n",
       "      <td>342</td>\n",
       "    </tr>\n",
       "    <tr>\n",
       "      <th>(2.0, 5.0]</th>\n",
       "      <td>374</td>\n",
       "      <td>60</td>\n",
       "      <td>434</td>\n",
       "    </tr>\n",
       "    <tr>\n",
       "      <th>(5.0, 7.0]</th>\n",
       "      <td>146</td>\n",
       "      <td>20</td>\n",
       "      <td>166</td>\n",
       "    </tr>\n",
       "    <tr>\n",
       "      <th>(7.0, 10.0]</th>\n",
       "      <td>247</td>\n",
       "      <td>35</td>\n",
       "      <td>282</td>\n",
       "    </tr>\n",
       "    <tr>\n",
       "      <th>(10.0, 40.0]</th>\n",
       "      <td>226</td>\n",
       "      <td>20</td>\n",
       "      <td>246</td>\n",
       "    </tr>\n",
       "    <tr>\n",
       "      <th>All</th>\n",
       "      <td>1233</td>\n",
       "      <td>237</td>\n",
       "      <td>1470</td>\n",
       "    </tr>\n",
       "  </tbody>\n",
       "</table>\n",
       "</div>"
      ],
      "text/plain": [
       "Attrition              No  Yes   All\n",
       "YearsAtCompany_bins                 \n",
       "(-0.001, 2.0]         240  102   342\n",
       "(2.0, 5.0]            374   60   434\n",
       "(5.0, 7.0]            146   20   166\n",
       "(7.0, 10.0]           247   35   282\n",
       "(10.0, 40.0]          226   20   246\n",
       "All                  1233  237  1470"
      ]
     },
     "execution_count": 158,
     "metadata": {},
     "output_type": "execute_result"
    }
   ],
   "source": [
    "pd.crosstab(pa_editada[\"YearsAtCompany_bins\"], pa_editada[\"Attrition\"],margins = True)"
   ]
  },
  {
   "cell_type": "code",
   "execution_count": 159,
   "metadata": {},
   "outputs": [
    {
     "data": {
      "text/html": [
       "<div>\n",
       "<style scoped>\n",
       "    .dataframe tbody tr th:only-of-type {\n",
       "        vertical-align: middle;\n",
       "    }\n",
       "\n",
       "    .dataframe tbody tr th {\n",
       "        vertical-align: top;\n",
       "    }\n",
       "\n",
       "    .dataframe thead th {\n",
       "        text-align: right;\n",
       "    }\n",
       "</style>\n",
       "<table border=\"1\" class=\"dataframe\">\n",
       "  <thead>\n",
       "    <tr style=\"text-align: right;\">\n",
       "      <th>Attrition</th>\n",
       "      <th>No</th>\n",
       "      <th>Yes</th>\n",
       "      <th>All</th>\n",
       "    </tr>\n",
       "    <tr>\n",
       "      <th>DistanceFromHome_bins</th>\n",
       "      <th></th>\n",
       "      <th></th>\n",
       "      <th></th>\n",
       "    </tr>\n",
       "  </thead>\n",
       "  <tbody>\n",
       "    <tr>\n",
       "      <th>(0.999, 2.0]</th>\n",
       "      <td>365</td>\n",
       "      <td>54</td>\n",
       "      <td>419</td>\n",
       "    </tr>\n",
       "    <tr>\n",
       "      <th>(2.0, 5.0]</th>\n",
       "      <td>180</td>\n",
       "      <td>33</td>\n",
       "      <td>213</td>\n",
       "    </tr>\n",
       "    <tr>\n",
       "      <th>(5.0, 9.0]</th>\n",
       "      <td>262</td>\n",
       "      <td>46</td>\n",
       "      <td>308</td>\n",
       "    </tr>\n",
       "    <tr>\n",
       "      <th>(9.0, 17.0]</th>\n",
       "      <td>205</td>\n",
       "      <td>48</td>\n",
       "      <td>253</td>\n",
       "    </tr>\n",
       "    <tr>\n",
       "      <th>(17.0, 29.0]</th>\n",
       "      <td>221</td>\n",
       "      <td>56</td>\n",
       "      <td>277</td>\n",
       "    </tr>\n",
       "    <tr>\n",
       "      <th>All</th>\n",
       "      <td>1233</td>\n",
       "      <td>237</td>\n",
       "      <td>1470</td>\n",
       "    </tr>\n",
       "  </tbody>\n",
       "</table>\n",
       "</div>"
      ],
      "text/plain": [
       "Attrition                No  Yes   All\n",
       "DistanceFromHome_bins                 \n",
       "(0.999, 2.0]            365   54   419\n",
       "(2.0, 5.0]              180   33   213\n",
       "(5.0, 9.0]              262   46   308\n",
       "(9.0, 17.0]             205   48   253\n",
       "(17.0, 29.0]            221   56   277\n",
       "All                    1233  237  1470"
      ]
     },
     "execution_count": 159,
     "metadata": {},
     "output_type": "execute_result"
    }
   ],
   "source": [
    "pd.crosstab(pa_editada[\"DistanceFromHome_bins\"], pa_editada[\"Attrition\"],margins = True)"
   ]
  },
  {
   "cell_type": "code",
   "execution_count": 160,
   "metadata": {},
   "outputs": [
    {
     "data": {
      "text/html": [
       "<div>\n",
       "<style scoped>\n",
       "    .dataframe tbody tr th:only-of-type {\n",
       "        vertical-align: middle;\n",
       "    }\n",
       "\n",
       "    .dataframe tbody tr th {\n",
       "        vertical-align: top;\n",
       "    }\n",
       "\n",
       "    .dataframe thead th {\n",
       "        text-align: right;\n",
       "    }\n",
       "</style>\n",
       "<table border=\"1\" class=\"dataframe\">\n",
       "  <thead>\n",
       "    <tr style=\"text-align: right;\">\n",
       "      <th>Attrition</th>\n",
       "      <th>No</th>\n",
       "      <th>Yes</th>\n",
       "      <th>All</th>\n",
       "    </tr>\n",
       "    <tr>\n",
       "      <th>YearsSinceLastPromotion_bins</th>\n",
       "      <th></th>\n",
       "      <th></th>\n",
       "      <th></th>\n",
       "    </tr>\n",
       "  </thead>\n",
       "  <tbody>\n",
       "    <tr>\n",
       "      <th>(-0.001, 1.0]</th>\n",
       "      <td>779</td>\n",
       "      <td>159</td>\n",
       "      <td>938</td>\n",
       "    </tr>\n",
       "    <tr>\n",
       "      <th>(1.0, 4.0]</th>\n",
       "      <td>231</td>\n",
       "      <td>41</td>\n",
       "      <td>272</td>\n",
       "    </tr>\n",
       "    <tr>\n",
       "      <th>(4.0, 15.0]</th>\n",
       "      <td>223</td>\n",
       "      <td>37</td>\n",
       "      <td>260</td>\n",
       "    </tr>\n",
       "    <tr>\n",
       "      <th>All</th>\n",
       "      <td>1233</td>\n",
       "      <td>237</td>\n",
       "      <td>1470</td>\n",
       "    </tr>\n",
       "  </tbody>\n",
       "</table>\n",
       "</div>"
      ],
      "text/plain": [
       "Attrition                       No  Yes   All\n",
       "YearsSinceLastPromotion_bins                 \n",
       "(-0.001, 1.0]                  779  159   938\n",
       "(1.0, 4.0]                     231   41   272\n",
       "(4.0, 15.0]                    223   37   260\n",
       "All                           1233  237  1470"
      ]
     },
     "execution_count": 160,
     "metadata": {},
     "output_type": "execute_result"
    }
   ],
   "source": [
    "pd.crosstab(pa_editada[\"YearsSinceLastPromotion_bins\"], pa_editada[\"Attrition\"],margins = True)"
   ]
  },
  {
   "cell_type": "code",
   "execution_count": 161,
   "metadata": {},
   "outputs": [
    {
     "data": {
      "text/html": [
       "<div>\n",
       "<style scoped>\n",
       "    .dataframe tbody tr th:only-of-type {\n",
       "        vertical-align: middle;\n",
       "    }\n",
       "\n",
       "    .dataframe tbody tr th {\n",
       "        vertical-align: top;\n",
       "    }\n",
       "\n",
       "    .dataframe thead th {\n",
       "        text-align: right;\n",
       "    }\n",
       "</style>\n",
       "<table border=\"1\" class=\"dataframe\">\n",
       "  <thead>\n",
       "    <tr style=\"text-align: right;\">\n",
       "      <th>Attrition</th>\n",
       "      <th>No</th>\n",
       "      <th>Yes</th>\n",
       "      <th>All</th>\n",
       "    </tr>\n",
       "    <tr>\n",
       "      <th>MonthlyIncome_bins</th>\n",
       "      <th></th>\n",
       "      <th></th>\n",
       "      <th></th>\n",
       "    </tr>\n",
       "  </thead>\n",
       "  <tbody>\n",
       "    <tr>\n",
       "      <th>(1008.999, 2695.8]</th>\n",
       "      <td>202</td>\n",
       "      <td>92</td>\n",
       "      <td>294</td>\n",
       "    </tr>\n",
       "    <tr>\n",
       "      <th>(2695.8, 4228.8]</th>\n",
       "      <td>244</td>\n",
       "      <td>50</td>\n",
       "      <td>294</td>\n",
       "    </tr>\n",
       "    <tr>\n",
       "      <th>(4228.8, 5743.4]</th>\n",
       "      <td>263</td>\n",
       "      <td>31</td>\n",
       "      <td>294</td>\n",
       "    </tr>\n",
       "    <tr>\n",
       "      <th>(5743.4, 9860.0]</th>\n",
       "      <td>257</td>\n",
       "      <td>37</td>\n",
       "      <td>294</td>\n",
       "    </tr>\n",
       "    <tr>\n",
       "      <th>(9860.0, 19999.0]</th>\n",
       "      <td>267</td>\n",
       "      <td>27</td>\n",
       "      <td>294</td>\n",
       "    </tr>\n",
       "    <tr>\n",
       "      <th>All</th>\n",
       "      <td>1233</td>\n",
       "      <td>237</td>\n",
       "      <td>1470</td>\n",
       "    </tr>\n",
       "  </tbody>\n",
       "</table>\n",
       "</div>"
      ],
      "text/plain": [
       "Attrition             No  Yes   All\n",
       "MonthlyIncome_bins                 \n",
       "(1008.999, 2695.8]   202   92   294\n",
       "(2695.8, 4228.8]     244   50   294\n",
       "(4228.8, 5743.4]     263   31   294\n",
       "(5743.4, 9860.0]     257   37   294\n",
       "(9860.0, 19999.0]    267   27   294\n",
       "All                 1233  237  1470"
      ]
     },
     "execution_count": 161,
     "metadata": {},
     "output_type": "execute_result"
    }
   ],
   "source": [
    "pd.crosstab(pa_editada[\"MonthlyIncome_bins\"], pa_editada[\"Attrition\"],margins = True)"
   ]
  },
  {
   "cell_type": "markdown",
   "metadata": {},
   "source": [
    "## Convertendo a variável Attrition em numérica"
   ]
  },
  {
   "cell_type": "code",
   "execution_count": 174,
   "metadata": {},
   "outputs": [],
   "source": [
    "pa_editada['Attrition_num'] = pa_editada['Attrition'].replace({'No': 0, 'Yes': 1})\n",
    "# pa_editada['Attrition_num'] = pa_editada['Attrition'].map({'No': 0, 'Yes': 1})\n",
    "#pa_editada['Attrition_num'] = pa_editada['Attrition'].apply(lambda x: 1 if x == 'Yes' else 0)"
   ]
  },
  {
   "cell_type": "code",
   "execution_count": 175,
   "metadata": {},
   "outputs": [
    {
     "data": {
      "text/html": [
       "<div>\n",
       "<style scoped>\n",
       "    .dataframe tbody tr th:only-of-type {\n",
       "        vertical-align: middle;\n",
       "    }\n",
       "\n",
       "    .dataframe tbody tr th {\n",
       "        vertical-align: top;\n",
       "    }\n",
       "\n",
       "    .dataframe thead th {\n",
       "        text-align: right;\n",
       "    }\n",
       "</style>\n",
       "<table border=\"1\" class=\"dataframe\">\n",
       "  <thead>\n",
       "    <tr style=\"text-align: right;\">\n",
       "      <th></th>\n",
       "      <th>Attrition</th>\n",
       "      <th>StockOptionLevel</th>\n",
       "      <th>Department</th>\n",
       "      <th>BusinessTravel</th>\n",
       "      <th>Gender</th>\n",
       "      <th>OverTime</th>\n",
       "      <th>Age_bins</th>\n",
       "      <th>TotalWorkingYears_bins</th>\n",
       "      <th>YearsInCurrentRole_bins</th>\n",
       "      <th>YearsAtCompany_bins</th>\n",
       "      <th>DistanceFromHome_bins</th>\n",
       "      <th>YearsSinceLastPromotion_bins</th>\n",
       "      <th>MonthlyIncome_bins</th>\n",
       "      <th>Attrition_num</th>\n",
       "    </tr>\n",
       "  </thead>\n",
       "  <tbody>\n",
       "    <tr>\n",
       "      <th>0</th>\n",
       "      <td>Yes</td>\n",
       "      <td>0</td>\n",
       "      <td>Sales</td>\n",
       "      <td>Travel_Rarely</td>\n",
       "      <td>Female</td>\n",
       "      <td>Yes</td>\n",
       "      <td>(38.0, 45.0]</td>\n",
       "      <td>(5.0, 8.0]</td>\n",
       "      <td>(2.0, 4.0]</td>\n",
       "      <td>(5.0, 7.0]</td>\n",
       "      <td>(0.999, 2.0]</td>\n",
       "      <td>(-0.001, 1.0]</td>\n",
       "      <td>(5743.4, 9860.0]</td>\n",
       "      <td>1</td>\n",
       "    </tr>\n",
       "    <tr>\n",
       "      <th>1</th>\n",
       "      <td>No</td>\n",
       "      <td>1</td>\n",
       "      <td>Research &amp; Development</td>\n",
       "      <td>Travel_Frequently</td>\n",
       "      <td>Male</td>\n",
       "      <td>No</td>\n",
       "      <td>(45.0, 60.0]</td>\n",
       "      <td>(8.0, 10.0]</td>\n",
       "      <td>(4.0, 7.0]</td>\n",
       "      <td>(7.0, 10.0]</td>\n",
       "      <td>(5.0, 9.0]</td>\n",
       "      <td>(-0.001, 1.0]</td>\n",
       "      <td>(4228.8, 5743.4]</td>\n",
       "      <td>0</td>\n",
       "    </tr>\n",
       "    <tr>\n",
       "      <th>2</th>\n",
       "      <td>Yes</td>\n",
       "      <td>0</td>\n",
       "      <td>Research &amp; Development</td>\n",
       "      <td>Travel_Rarely</td>\n",
       "      <td>Male</td>\n",
       "      <td>Yes</td>\n",
       "      <td>(34.0, 38.0]</td>\n",
       "      <td>(5.0, 8.0]</td>\n",
       "      <td>(-0.001, 1.0]</td>\n",
       "      <td>(-0.001, 2.0]</td>\n",
       "      <td>(0.999, 2.0]</td>\n",
       "      <td>(-0.001, 1.0]</td>\n",
       "      <td>(1008.999, 2695.8]</td>\n",
       "      <td>1</td>\n",
       "    </tr>\n",
       "    <tr>\n",
       "      <th>3</th>\n",
       "      <td>No</td>\n",
       "      <td>0</td>\n",
       "      <td>Research &amp; Development</td>\n",
       "      <td>Travel_Frequently</td>\n",
       "      <td>Female</td>\n",
       "      <td>Yes</td>\n",
       "      <td>(29.0, 34.0]</td>\n",
       "      <td>(5.0, 8.0]</td>\n",
       "      <td>(4.0, 7.0]</td>\n",
       "      <td>(7.0, 10.0]</td>\n",
       "      <td>(2.0, 5.0]</td>\n",
       "      <td>(1.0, 4.0]</td>\n",
       "      <td>(2695.8, 4228.8]</td>\n",
       "      <td>0</td>\n",
       "    </tr>\n",
       "    <tr>\n",
       "      <th>4</th>\n",
       "      <td>No</td>\n",
       "      <td>1</td>\n",
       "      <td>Research &amp; Development</td>\n",
       "      <td>Travel_Rarely</td>\n",
       "      <td>Male</td>\n",
       "      <td>No</td>\n",
       "      <td>(17.999, 29.0]</td>\n",
       "      <td>(5.0, 8.0]</td>\n",
       "      <td>(1.0, 2.0]</td>\n",
       "      <td>(-0.001, 2.0]</td>\n",
       "      <td>(0.999, 2.0]</td>\n",
       "      <td>(1.0, 4.0]</td>\n",
       "      <td>(2695.8, 4228.8]</td>\n",
       "      <td>0</td>\n",
       "    </tr>\n",
       "  </tbody>\n",
       "</table>\n",
       "</div>"
      ],
      "text/plain": [
       "  Attrition  StockOptionLevel              Department     BusinessTravel  \\\n",
       "0       Yes                 0                   Sales      Travel_Rarely   \n",
       "1        No                 1  Research & Development  Travel_Frequently   \n",
       "2       Yes                 0  Research & Development      Travel_Rarely   \n",
       "3        No                 0  Research & Development  Travel_Frequently   \n",
       "4        No                 1  Research & Development      Travel_Rarely   \n",
       "\n",
       "   Gender OverTime        Age_bins TotalWorkingYears_bins  \\\n",
       "0  Female      Yes    (38.0, 45.0]             (5.0, 8.0]   \n",
       "1    Male       No    (45.0, 60.0]            (8.0, 10.0]   \n",
       "2    Male      Yes    (34.0, 38.0]             (5.0, 8.0]   \n",
       "3  Female      Yes    (29.0, 34.0]             (5.0, 8.0]   \n",
       "4    Male       No  (17.999, 29.0]             (5.0, 8.0]   \n",
       "\n",
       "  YearsInCurrentRole_bins YearsAtCompany_bins DistanceFromHome_bins  \\\n",
       "0              (2.0, 4.0]          (5.0, 7.0]          (0.999, 2.0]   \n",
       "1              (4.0, 7.0]         (7.0, 10.0]            (5.0, 9.0]   \n",
       "2           (-0.001, 1.0]       (-0.001, 2.0]          (0.999, 2.0]   \n",
       "3              (4.0, 7.0]         (7.0, 10.0]            (2.0, 5.0]   \n",
       "4              (1.0, 2.0]       (-0.001, 2.0]          (0.999, 2.0]   \n",
       "\n",
       "  YearsSinceLastPromotion_bins  MonthlyIncome_bins  Attrition_num  \n",
       "0                (-0.001, 1.0]    (5743.4, 9860.0]              1  \n",
       "1                (-0.001, 1.0]    (4228.8, 5743.4]              0  \n",
       "2                (-0.001, 1.0]  (1008.999, 2695.8]              1  \n",
       "3                   (1.0, 4.0]    (2695.8, 4228.8]              0  \n",
       "4                   (1.0, 4.0]    (2695.8, 4228.8]              0  "
      ]
     },
     "execution_count": 175,
     "metadata": {},
     "output_type": "execute_result"
    }
   ],
   "source": [
    "pa_editada.head()"
   ]
  },
  {
   "cell_type": "markdown",
   "metadata": {},
   "source": [
    "# Calculando IV e WOE"
   ]
  },
  {
   "cell_type": "code",
   "execution_count": 191,
   "metadata": {},
   "outputs": [],
   "source": [
    "def calculate_woe_iv(dataset, feature, target):\n",
    "    lst = []\n",
    "    for i in range(dataset[feature].nunique()):\n",
    "        val = list(dataset[feature].unique())[i]\n",
    "        lst.append({\n",
    "            'Value': val,\n",
    "            'All': dataset[dataset[feature] == val].count()[feature],\n",
    "            'Good': dataset[(dataset[feature] == val) & (dataset[target] == 0)].count()[feature],\n",
    "            'Bad': dataset[(dataset[feature] == val) & (dataset[target] == 1)].count()[feature]\n",
    "        })\n",
    "        \n",
    "    dset = pd.DataFrame(lst)\n",
    "    dset['Distr_Good'] = dset['Good'] / dset['Good'].sum()\n",
    "    dset['Distr_Bad'] = dset['Bad'] / dset['Bad'].sum()\n",
    "    dset['WoE'] = np.log(dset['Distr_Good'] / dset['Distr_Bad'])\n",
    "    dset = dset.replace({'WoE': {np.inf: 0, -np.inf: 0}})\n",
    "    dset['IV'] = (dset['Distr_Good'] - dset['Distr_Bad']) * dset['WoE']\n",
    "    iv = dset['IV'].sum()\n",
    "    \n",
    "    dset = dset.sort_values(by='WoE')\n",
    "    \n",
    "    return dset, iv"
   ]
  },
  {
   "cell_type": "code",
   "execution_count": 187,
   "metadata": {},
   "outputs": [],
   "source": [
    "feats = ['StockOptionLevel', 'Department', 'BusinessTravel',\n",
    "       'Gender', 'OverTime', 'Age_bins', 'TotalWorkingYears_bins',\n",
    "       'YearsInCurrentRole_bins', 'YearsAtCompany_bins',\n",
    "       'DistanceFromHome_bins', 'YearsSinceLastPromotion_bins',\n",
    "       'MonthlyIncome_bins',]\n",
    "\n",
    "target = ['Attrition_num']"
   ]
  },
  {
   "cell_type": "code",
   "execution_count": 217,
   "metadata": {
    "scrolled": false
   },
   "outputs": [
    {
     "data": {
      "text/html": [
       "<div>\n",
       "<style scoped>\n",
       "    .dataframe tbody tr th:only-of-type {\n",
       "        vertical-align: middle;\n",
       "    }\n",
       "\n",
       "    .dataframe tbody tr th {\n",
       "        vertical-align: top;\n",
       "    }\n",
       "\n",
       "    .dataframe thead th {\n",
       "        text-align: right;\n",
       "    }\n",
       "</style>\n",
       "<table border=\"1\" class=\"dataframe\">\n",
       "  <thead>\n",
       "    <tr style=\"text-align: right;\">\n",
       "      <th></th>\n",
       "      <th>Variavel</th>\n",
       "      <th>IV</th>\n",
       "    </tr>\n",
       "  </thead>\n",
       "  <tbody>\n",
       "    <tr>\n",
       "      <th>0</th>\n",
       "      <td>OverTime</td>\n",
       "      <td>0.400183</td>\n",
       "    </tr>\n",
       "    <tr>\n",
       "      <th>0</th>\n",
       "      <td>MonthlyIncome_bins</td>\n",
       "      <td>0.315757</td>\n",
       "    </tr>\n",
       "    <tr>\n",
       "      <th>0</th>\n",
       "      <td>YearsAtCompany_bins</td>\n",
       "      <td>0.300408</td>\n",
       "    </tr>\n",
       "    <tr>\n",
       "      <th>0</th>\n",
       "      <td>StockOptionLevel</td>\n",
       "      <td>0.283604</td>\n",
       "    </tr>\n",
       "    <tr>\n",
       "      <th>0</th>\n",
       "      <td>TotalWorkingYears_bins</td>\n",
       "      <td>0.276188</td>\n",
       "    </tr>\n",
       "    <tr>\n",
       "      <th>0</th>\n",
       "      <td>YearsInCurrentRole_bins</td>\n",
       "      <td>0.262800</td>\n",
       "    </tr>\n",
       "    <tr>\n",
       "      <th>0</th>\n",
       "      <td>Age_bins</td>\n",
       "      <td>0.258060</td>\n",
       "    </tr>\n",
       "    <tr>\n",
       "      <th>0</th>\n",
       "      <td>BusinessTravel</td>\n",
       "      <td>0.120868</td>\n",
       "    </tr>\n",
       "    <tr>\n",
       "      <th>0</th>\n",
       "      <td>Department</td>\n",
       "      <td>0.052175</td>\n",
       "    </tr>\n",
       "    <tr>\n",
       "      <th>0</th>\n",
       "      <td>DistanceFromHome_bins</td>\n",
       "      <td>0.042754</td>\n",
       "    </tr>\n",
       "    <tr>\n",
       "      <th>0</th>\n",
       "      <td>YearsSinceLastPromotion_bins</td>\n",
       "      <td>0.007131</td>\n",
       "    </tr>\n",
       "    <tr>\n",
       "      <th>0</th>\n",
       "      <td>Gender</td>\n",
       "      <td>0.006496</td>\n",
       "    </tr>\n",
       "  </tbody>\n",
       "</table>\n",
       "</div>"
      ],
      "text/plain": [
       "                       Variavel        IV\n",
       "0                      OverTime  0.400183\n",
       "0            MonthlyIncome_bins  0.315757\n",
       "0           YearsAtCompany_bins  0.300408\n",
       "0              StockOptionLevel  0.283604\n",
       "0        TotalWorkingYears_bins  0.276188\n",
       "0       YearsInCurrentRole_bins  0.262800\n",
       "0                      Age_bins  0.258060\n",
       "0                BusinessTravel  0.120868\n",
       "0                    Department  0.052175\n",
       "0         DistanceFromHome_bins  0.042754\n",
       "0  YearsSinceLastPromotion_bins  0.007131\n",
       "0                        Gender  0.006496"
      ]
     },
     "execution_count": 217,
     "metadata": {},
     "output_type": "execute_result"
    }
   ],
   "source": [
    "iv_df = pd.DataFrame(columns=['Variavel', 'IV'])\n",
    "\n",
    "for col in feats:\n",
    "    df, iv = calculate_woe_iv(pa_editada, col, 'Attrition_num')\n",
    "    iv_df = iv_df.append(pd.DataFrame({'Variavel': [col], 'IV': [iv]}))\n",
    "    \n",
    "iv_df.sort_values(by=['IV'], ascending=False)"
   ]
  },
  {
   "cell_type": "markdown",
   "metadata": {},
   "source": [
    "## Ajustando um modelo de regressão logística para explicar o turnover\n"
   ]
  },
  {
   "cell_type": "code",
   "execution_count": 246,
   "metadata": {},
   "outputs": [],
   "source": [
    "import statsmodels.formula.api as smf"
   ]
  },
  {
   "cell_type": "code",
   "execution_count": 239,
   "metadata": {},
   "outputs": [],
   "source": [
    "formula = 'Attrition_num ~ StockOptionLevel + MonthlyIncome_bins + DistanceFromHome_bins + YearsAtCompany_bins +  Age_bins +  OverTime + BusinessTravel'\n"
   ]
  },
  {
   "cell_type": "code",
   "execution_count": 240,
   "metadata": {},
   "outputs": [
    {
     "name": "stdout",
     "output_type": "stream",
     "text": [
      "                 Generalized Linear Model Regression Results                  \n",
      "==============================================================================\n",
      "Dep. Variable:          Attrition_num   No. Observations:                 1470\n",
      "Model:                            GLM   Df Residuals:                     1449\n",
      "Model Family:                Binomial   Df Model:                           20\n",
      "Link Function:                  logit   Scale:                          1.0000\n",
      "Method:                          IRLS   Log-Likelihood:                -509.78\n",
      "Date:                Tue, 29 Dec 2020   Deviance:                       1019.6\n",
      "Time:                        12:25:01   Pearson chi2:                 1.66e+03\n",
      "No. Iterations:                     6                                         \n",
      "Covariance Type:            nonrobust                                         \n",
      "===================================================================================================================================\n",
      "                                                                      coef    std err          z      P>|z|      [0.025      0.975]\n",
      "-----------------------------------------------------------------------------------------------------------------------------------\n",
      "Intercept                                                          -1.1507      0.399     -2.882      0.004      -1.933      -0.368\n",
      "MonthlyIncome_bins[T.Interval(2695.8, 4228.8, closed='right')]     -0.5973      0.227     -2.631      0.009      -1.042      -0.152\n",
      "MonthlyIncome_bins[T.Interval(4228.8, 5743.4, closed='right')]     -0.9716      0.262     -3.704      0.000      -1.486      -0.457\n",
      "MonthlyIncome_bins[T.Interval(5743.4, 9860.0, closed='right')]     -0.8202      0.260     -3.156      0.002      -1.330      -0.311\n",
      "MonthlyIncome_bins[T.Interval(9860.0, 19999.0, closed='right')]    -1.0076      0.319     -3.161      0.002      -1.632      -0.383\n",
      "DistanceFromHome_bins[T.Interval(2.0, 5.0, closed='right')]         0.0442      0.272      0.163      0.871      -0.489       0.577\n",
      "DistanceFromHome_bins[T.Interval(5.0, 9.0, closed='right')]         0.2753      0.242      1.138      0.255      -0.199       0.749\n",
      "DistanceFromHome_bins[T.Interval(9.0, 17.0, closed='right')]        0.5097      0.246      2.075      0.038       0.028       0.991\n",
      "DistanceFromHome_bins[T.Interval(17.0, 29.0, closed='right')]       0.6828      0.238      2.868      0.004       0.216       1.149\n",
      "YearsAtCompany_bins[T.Interval(2.0, 5.0, closed='right')]          -0.8546      0.207     -4.136      0.000      -1.260      -0.450\n",
      "YearsAtCompany_bins[T.Interval(5.0, 7.0, closed='right')]          -0.9075      0.296     -3.063      0.002      -1.488      -0.327\n",
      "YearsAtCompany_bins[T.Interval(7.0, 10.0, closed='right')]         -0.7530      0.254     -2.968      0.003      -1.250      -0.256\n",
      "YearsAtCompany_bins[T.Interval(10.0, 40.0, closed='right')]        -0.9341      0.314     -2.973      0.003      -1.550      -0.318\n",
      "Age_bins[T.Interval(29.0, 34.0, closed='right')]                   -0.1554      0.222     -0.699      0.485      -0.591       0.281\n",
      "Age_bins[T.Interval(34.0, 38.0, closed='right')]                   -1.0518      0.278     -3.785      0.000      -1.597      -0.507\n",
      "Age_bins[T.Interval(38.0, 45.0, closed='right')]                   -0.9406      0.275     -3.421      0.001      -1.479      -0.402\n",
      "Age_bins[T.Interval(45.0, 60.0, closed='right')]                   -0.4804      0.279     -1.721      0.085      -1.027       0.067\n",
      "OverTime[T.Yes]                                                     1.5050      0.166      9.052      0.000       1.179       1.831\n",
      "BusinessTravel[T.Travel_Frequently]                                 1.4052      0.364      3.864      0.000       0.692       2.118\n",
      "BusinessTravel[T.Travel_Rarely]                                     0.6800      0.340      1.999      0.046       0.013       1.347\n",
      "StockOptionLevel                                                   -1.0921      0.165     -6.614      0.000      -1.416      -0.769\n",
      "===================================================================================================================================\n"
     ]
    }
   ],
   "source": [
    "model = smf.glm(formula = formula, data= pa_editada, family= sm.families.Binomial())\n",
    "result = model.fit()\n",
    "print(result.summary())"
   ]
  },
  {
   "cell_type": "markdown",
   "metadata": {},
   "source": [
    "## Avaliando potenciais efeitos de multicolinearidade"
   ]
  },
  {
   "cell_type": "code",
   "execution_count": 247,
   "metadata": {},
   "outputs": [],
   "source": [
    "from statsmodels.stats.outliers_influence import variance_inflation_factor\n",
    "from patsy import dmatrices"
   ]
  },
  {
   "cell_type": "code",
   "execution_count": 249,
   "metadata": {},
   "outputs": [],
   "source": [
    "y, X = dmatrices(formula, data=pa_editada, return_type='dataframe')\n"
   ]
  },
  {
   "cell_type": "code",
   "execution_count": 250,
   "metadata": {},
   "outputs": [],
   "source": [
    "# For each X, calculate VIF and save in dataframe\n",
    "vif = pd.DataFrame()\n",
    "vif[\"VIF Factor\"] = [variance_inflation_factor(X.values, i) for i in range(X.shape[1])]\n",
    "vif[\"features\"] = X.columns"
   ]
  },
  {
   "cell_type": "code",
   "execution_count": 251,
   "metadata": {},
   "outputs": [
    {
     "data": {
      "text/html": [
       "<div>\n",
       "<style scoped>\n",
       "    .dataframe tbody tr th:only-of-type {\n",
       "        vertical-align: middle;\n",
       "    }\n",
       "\n",
       "    .dataframe tbody tr th {\n",
       "        vertical-align: top;\n",
       "    }\n",
       "\n",
       "    .dataframe thead th {\n",
       "        text-align: right;\n",
       "    }\n",
       "</style>\n",
       "<table border=\"1\" class=\"dataframe\">\n",
       "  <thead>\n",
       "    <tr style=\"text-align: right;\">\n",
       "      <th></th>\n",
       "      <th>VIF Factor</th>\n",
       "      <th>features</th>\n",
       "    </tr>\n",
       "  </thead>\n",
       "  <tbody>\n",
       "    <tr>\n",
       "      <th>0</th>\n",
       "      <td>21.693066</td>\n",
       "      <td>Intercept</td>\n",
       "    </tr>\n",
       "    <tr>\n",
       "      <th>1</th>\n",
       "      <td>1.670944</td>\n",
       "      <td>MonthlyIncome_bins[T.Interval(2695.8, 4228.8, ...</td>\n",
       "    </tr>\n",
       "    <tr>\n",
       "      <th>2</th>\n",
       "      <td>1.806611</td>\n",
       "      <td>MonthlyIncome_bins[T.Interval(4228.8, 5743.4, ...</td>\n",
       "    </tr>\n",
       "    <tr>\n",
       "      <th>3</th>\n",
       "      <td>1.893250</td>\n",
       "      <td>MonthlyIncome_bins[T.Interval(5743.4, 9860.0, ...</td>\n",
       "    </tr>\n",
       "    <tr>\n",
       "      <th>4</th>\n",
       "      <td>2.426901</td>\n",
       "      <td>MonthlyIncome_bins[T.Interval(9860.0, 19999.0,...</td>\n",
       "    </tr>\n",
       "    <tr>\n",
       "      <th>5</th>\n",
       "      <td>1.306418</td>\n",
       "      <td>DistanceFromHome_bins[T.Interval(2.0, 5.0, clo...</td>\n",
       "    </tr>\n",
       "    <tr>\n",
       "      <th>6</th>\n",
       "      <td>1.379524</td>\n",
       "      <td>DistanceFromHome_bins[T.Interval(5.0, 9.0, clo...</td>\n",
       "    </tr>\n",
       "    <tr>\n",
       "      <th>7</th>\n",
       "      <td>1.351711</td>\n",
       "      <td>DistanceFromHome_bins[T.Interval(9.0, 17.0, cl...</td>\n",
       "    </tr>\n",
       "    <tr>\n",
       "      <th>8</th>\n",
       "      <td>1.358296</td>\n",
       "      <td>DistanceFromHome_bins[T.Interval(17.0, 29.0, c...</td>\n",
       "    </tr>\n",
       "    <tr>\n",
       "      <th>9</th>\n",
       "      <td>1.662781</td>\n",
       "      <td>YearsAtCompany_bins[T.Interval(2.0, 5.0, close...</td>\n",
       "    </tr>\n",
       "    <tr>\n",
       "      <th>10</th>\n",
       "      <td>1.405961</td>\n",
       "      <td>YearsAtCompany_bins[T.Interval(5.0, 7.0, close...</td>\n",
       "    </tr>\n",
       "    <tr>\n",
       "      <th>11</th>\n",
       "      <td>1.666498</td>\n",
       "      <td>YearsAtCompany_bins[T.Interval(7.0, 10.0, clos...</td>\n",
       "    </tr>\n",
       "    <tr>\n",
       "      <th>12</th>\n",
       "      <td>1.827788</td>\n",
       "      <td>YearsAtCompany_bins[T.Interval(10.0, 40.0, clo...</td>\n",
       "    </tr>\n",
       "    <tr>\n",
       "      <th>13</th>\n",
       "      <td>1.671324</td>\n",
       "      <td>Age_bins[T.Interval(29.0, 34.0, closed='right')]</td>\n",
       "    </tr>\n",
       "    <tr>\n",
       "      <th>14</th>\n",
       "      <td>1.599468</td>\n",
       "      <td>Age_bins[T.Interval(34.0, 38.0, closed='right')]</td>\n",
       "    </tr>\n",
       "    <tr>\n",
       "      <th>15</th>\n",
       "      <td>1.762565</td>\n",
       "      <td>Age_bins[T.Interval(38.0, 45.0, closed='right')]</td>\n",
       "    </tr>\n",
       "    <tr>\n",
       "      <th>16</th>\n",
       "      <td>1.953895</td>\n",
       "      <td>Age_bins[T.Interval(45.0, 60.0, closed='right')]</td>\n",
       "    </tr>\n",
       "    <tr>\n",
       "      <th>17</th>\n",
       "      <td>1.011614</td>\n",
       "      <td>OverTime[T.Yes]</td>\n",
       "    </tr>\n",
       "    <tr>\n",
       "      <th>18</th>\n",
       "      <td>2.326700</td>\n",
       "      <td>BusinessTravel[T.Travel_Frequently]</td>\n",
       "    </tr>\n",
       "    <tr>\n",
       "      <th>19</th>\n",
       "      <td>2.336033</td>\n",
       "      <td>BusinessTravel[T.Travel_Rarely]</td>\n",
       "    </tr>\n",
       "    <tr>\n",
       "      <th>20</th>\n",
       "      <td>1.017994</td>\n",
       "      <td>StockOptionLevel</td>\n",
       "    </tr>\n",
       "  </tbody>\n",
       "</table>\n",
       "</div>"
      ],
      "text/plain": [
       "    VIF Factor                                           features\n",
       "0    21.693066                                          Intercept\n",
       "1     1.670944  MonthlyIncome_bins[T.Interval(2695.8, 4228.8, ...\n",
       "2     1.806611  MonthlyIncome_bins[T.Interval(4228.8, 5743.4, ...\n",
       "3     1.893250  MonthlyIncome_bins[T.Interval(5743.4, 9860.0, ...\n",
       "4     2.426901  MonthlyIncome_bins[T.Interval(9860.0, 19999.0,...\n",
       "5     1.306418  DistanceFromHome_bins[T.Interval(2.0, 5.0, clo...\n",
       "6     1.379524  DistanceFromHome_bins[T.Interval(5.0, 9.0, clo...\n",
       "7     1.351711  DistanceFromHome_bins[T.Interval(9.0, 17.0, cl...\n",
       "8     1.358296  DistanceFromHome_bins[T.Interval(17.0, 29.0, c...\n",
       "9     1.662781  YearsAtCompany_bins[T.Interval(2.0, 5.0, close...\n",
       "10    1.405961  YearsAtCompany_bins[T.Interval(5.0, 7.0, close...\n",
       "11    1.666498  YearsAtCompany_bins[T.Interval(7.0, 10.0, clos...\n",
       "12    1.827788  YearsAtCompany_bins[T.Interval(10.0, 40.0, clo...\n",
       "13    1.671324   Age_bins[T.Interval(29.0, 34.0, closed='right')]\n",
       "14    1.599468   Age_bins[T.Interval(34.0, 38.0, closed='right')]\n",
       "15    1.762565   Age_bins[T.Interval(38.0, 45.0, closed='right')]\n",
       "16    1.953895   Age_bins[T.Interval(45.0, 60.0, closed='right')]\n",
       "17    1.011614                                    OverTime[T.Yes]\n",
       "18    2.326700                BusinessTravel[T.Travel_Frequently]\n",
       "19    2.336033                    BusinessTravel[T.Travel_Rarely]\n",
       "20    1.017994                                   StockOptionLevel"
      ]
     },
     "execution_count": 251,
     "metadata": {},
     "output_type": "execute_result"
    }
   ],
   "source": [
    "vif"
   ]
  },
  {
   "cell_type": "markdown",
   "metadata": {},
   "source": [
    "## Predizendo a probabilidade de turn over na base de dados\n"
   ]
  },
  {
   "cell_type": "code",
   "execution_count": null,
   "metadata": {},
   "outputs": [],
   "source": []
  },
  {
   "cell_type": "code",
   "execution_count": null,
   "metadata": {},
   "outputs": [],
   "source": []
  },
  {
   "cell_type": "code",
   "execution_count": null,
   "metadata": {},
   "outputs": [],
   "source": []
  },
  {
   "cell_type": "code",
   "execution_count": null,
   "metadata": {},
   "outputs": [],
   "source": []
  },
  {
   "cell_type": "code",
   "execution_count": null,
   "metadata": {},
   "outputs": [],
   "source": []
  }
 ],
 "metadata": {
  "kernelspec": {
   "display_name": "Python 3",
   "language": "python",
   "name": "python3"
  },
  "language_info": {
   "codemirror_mode": {
    "name": "ipython",
    "version": 3
   },
   "file_extension": ".py",
   "mimetype": "text/x-python",
   "name": "python",
   "nbconvert_exporter": "python",
   "pygments_lexer": "ipython3",
   "version": "3.8.1"
  }
 },
 "nbformat": 4,
 "nbformat_minor": 4
}
